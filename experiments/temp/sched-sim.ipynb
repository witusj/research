{
  "cells": [
    {
      "cell_type": "raw",
      "metadata": {},
      "source": [
        "---\n",
        "title: \"Scheduling Simulation\"\n",
        "format: html\n",
        "editor: visual\n",
        "---"
      ]
    },
    {
      "cell_type": "markdown",
      "metadata": {},
      "source": [
        "## Setup\n",
        "\n",
        "Load libraries."
      ]
    },
    {
      "cell_type": "code",
      "metadata": {},
      "source": [
        "## Libraries\n",
        "import numpy as np\n",
        "from matplotlib import pyplot as plt\n",
        "import seaborn as sns"
      ],
      "execution_count": null,
      "outputs": []
    },
    {
      "cell_type": "markdown",
      "metadata": {},
      "source": [
        "Define functions:\n",
        "\n",
        "-   `logn_mean_lns(m, s)` transforms a mean and standard deviation from a lognormal distribution to parameters for a normal distribution. This is necessary when using the random lognormal sampling function. It uses a normal mean and standard deviation as inputs. However, for our simulation we define a mean and standard deviations from a lognormal distribution:\n",
        "\n",
        "    -   **lnm** = lognormal mean\n",
        "\n",
        "    -   **lns** = lognormal standard deviation\n",
        "\n",
        "    Returns an array with normal mean and standard deviation\n",
        "\n",
        "-   `generate_logn_sts(s, n, mu, lns)` generates a matrix with service times randomly selected from a lognormal distribution:\n",
        "\n",
        "    -   **s** = number of rows\n",
        "\n",
        "    -   **n** = number of columns\n",
        "\n",
        "    -   **lnm** = lognormal mean\n",
        "\n",
        "    -   **lns** = lognormal standard deviation\n",
        "\n",
        "    Returns an **s** x **n** matrix with random service times.\n",
        "\n",
        "-   `generate_client(cts, sts, pct, ns=0)` generates one client. A client is represented by a client type and a service time:\n",
        "\n",
        "    -   **cts** is an array with randomly generated client types. Used for sampling.\n",
        "\n",
        "    -   **sts** is an array with randomly generated service times. Used for sampling.\n",
        "\n",
        "    -   **pct** is an array with distributions for samplling client types.\n",
        "\n",
        "    -   **ns** is a fraction of no-shows. When a client is a no-show the service time will be set to zero.\n",
        "\n",
        "    Returns an array with client type and service time (zero when no-show).\n",
        "\n",
        "-   `simulate(iats, cts, sts, pct, ns, logs=False)` simulates one schedule:\n",
        "\n",
        "    -   **iats** is an array with interarrival times for each client\n",
        "\n",
        "    -   **cts** is an array with randomly generated client types. Used for sampling.\n",
        "\n",
        "    -   **sts** is an array with randomly generated service times. Used for sampling.\n",
        "\n",
        "    -   **pct** is an array with distributions for samplling client types.\n",
        "\n",
        "    -   **ns** is a fraction of no-shows. When a client is a no-show the service time will be set to zero.\n",
        "\n",
        "    -   **logs** a boolean flag: should results be printed (`True`) or not (`False`)?\n",
        "\n",
        "    Returns an array of waiting times.\n",
        "\n",
        "-   `simulate_crn(iats, cts, sts, logs=False)` simulates one schedule using common random numbers.:\n",
        "\n",
        "    -   **iats** is an array with interarrival times for each client\n",
        "\n",
        "    -   **cts** is an array with randomly generated client types. Must have same length as **iats**.\n",
        "\n",
        "    -   **sts** is an array with randomly generated service times (with zeros for no-shows). Must have same length as **iats**.\n",
        "\n",
        "    -   **logs** a boolean flag: should results be printed (`True`) or not (`False`)?\n",
        "\n",
        "    Returns an array of waiting times.\n",
        "\n",
        "-   `transform_iats_schedule(iats: list[int], d: int, T: int)` transforms a list with inter-arrival times per client to a schedule with clients per time slot.:\n",
        "\n",
        "    -   **iats** is a list with interarrival times per client as integers\n",
        "\n",
        "    -   **d** is the length of a time slot\n",
        "\n",
        "    -   **T** is the number of intervals in the schedule\n",
        "\n",
        "    Returns an array of number of clients.\n",
        "\n",
        "-   `transform_schedule_iats(schedule: list[int], d: int)` transforms a schedule with clients per time slot to a list with inter-arrival times per client :\n",
        "\n",
        "    -   **schedule** is a list with number of clients per time slot as integers\n",
        "    -   **d** is the length of a time slot\n",
        "\n",
        "    Returns an array of inter-arrival times."
      ]
    },
    {
      "cell_type": "code",
      "metadata": {},
      "source": [
        "## Functions\n",
        "\n",
        "### Lognormal mean and lns / see: https://en.wikipedia.org/wiki/Log-normal_distribution\n",
        "\n",
        "def logn_mean_lns(lnm, lns):\n",
        "  sigma = np.sqrt(np.log(1 + (lns/lnm)**2))\n",
        "  mu = np.log(lnm**2 / np.sqrt(lnm**2 + lns**2))\n",
        "  return np.array([mu, sigma])\n",
        "\n",
        "### Random lognormal service times generator\n",
        "def generate_logn_sts(s, n, lnm, lns):\n",
        "  sts = np.random.lognormal(mean = logn_mean_lns(lnm, lns)[0], sigma=logn_mean_lns(lnm, lns)[1], size=s * n)\n",
        "  return np.reshape(sts, (s, n))\n",
        "\n",
        "##############\n",
        "#### TEST ####\n",
        "generate_logn_sts(5, 5, 14, 10)\n",
        "generate_logn_sts(1, 8, 14, 10)\n",
        "##############\n",
        "\n",
        "### Client generator\n",
        "def generate_client(cts, sts, pct, ns=0):\n",
        "  ct = np.random.choice(cts, size = 1, p=pct)[0] # generate random client type\n",
        "  st = np.random.binomial(n=1, p=1-ns)*np.random.choice(sts, size = 1)[0] # generate random service time / if no-show -> st = 0\n",
        "  return np.array([ct, st])\n",
        "\n",
        "### Simulation\n",
        "### ATTENTION: handling of emergency patients has not yet been implemented\n",
        "\n",
        "def simulate(iats, cts, sts, pct, ns, logs=False):\n",
        "  wt = 0 # initial value waiting time\n",
        "  wts = [] # array for saving waiting times\n",
        "  for i in range(len(iats)):\n",
        "    if(i != 0): # don't calculate waiting time for first client in schedule\n",
        "      wt = max(0, tis - iats[i]) # calculate waiting time\n",
        "    ct, st = generate_client(cts, sts, pct, ns) # client type and service time\n",
        "    tis = wt + st # calculate time in system\n",
        "    wts.append(wt)\n",
        "    if(logs): print(iats[i], wt, st, tis, ct)\n",
        "  return np.array(wts)\n",
        "\n",
        "def simulate_crn(iats, cts, sts, logs=False):\n",
        "  wt = 0 # initial value waiting time\n",
        "  wts = [] # array for saving waiting times\n",
        "  for i in range(len(iats)):\n",
        "    if(i != 0): # don't calculate waiting time for first client in schedule\n",
        "      wt = max(0, tis - iats[i]) # calculate waiting time\n",
        "    ct =  cts[i]# client type\n",
        "    st =  sts[i]# service time\n",
        "    tis = wt + st # calculate time in system\n",
        "    wts.append(wt)\n",
        "    if(logs): print(iats[i], wt, st, tis, ct)\n",
        "  return np.array(wts)\n",
        "\n",
        "def transform_iats_schedule(iats: list, d: int, T: int):\n",
        "  iats = np.array(iats)\n",
        "  ats = np.cumsum(iats)\n",
        "  sats = np.arange(d*(T+1),step = d)\n",
        "  schedule = np.histogram(ats, bins=sats)\n",
        "  return schedule\n",
        "\n",
        "##############\n",
        "#### TEST ####\n",
        "transform_iats_schedule([0, 0 ,30, 0, 60, 0, 0, 0, 60, 0, 0, 0], d = 15, T = 11)\n",
        "##############\n",
        "\n",
        "def transform_schedule_iats(schedule: list, d: int):\n",
        "  schedule = np.array(schedule)\n",
        "  T = schedule.size\n",
        "  sats = np.arange(d*T,step = d)\n",
        "  ats = np.repeat(sats, schedule)\n",
        "  iats = np.diff(ats)\n",
        "  iats = np.insert(iats, 0, ats[0])\n",
        "  return iats\n",
        "\n",
        "##############\n",
        "#### TEST ####\n",
        "schedule = transform_iats_schedule([0, 0 ,30, 0, 60, 0, 0, 0, 60, 0, 0, 0], d = 15, T = 11)[0]\n",
        "transform_schedule_iats(schedule, d = 15)\n",
        "##############\n"
      ],
      "execution_count": null,
      "outputs": []
    },
    {
      "cell_type": "markdown",
      "metadata": {},
      "source": [
        "Configure global simulation parameters."
      ]
    },
    {
      "cell_type": "code",
      "metadata": {},
      "source": [
        "## Variables\n",
        "\n",
        "cts = np.array([0, 1]) # client types -> normal or emergency\n",
        "pct = np.array([1, 0]) # distribution of client types -> normal or emergency\n",
        "# sts = np.array([14, 14, 14, 15, 16]) # service times - for simple numerical testing\n",
        "# sts = np.random.poisson(lam=14, size=1000) - using poisson distribution\n",
        "\n",
        "ns = 0.1 # Percentage of no-shows\n",
        "nsims = 100000 # number of simulations\n",
        "logs = False"
      ],
      "execution_count": null,
      "outputs": []
    },
    {
      "cell_type": "markdown",
      "metadata": {},
      "source": [
        "## Run simulation 1\n",
        "\n",
        "![](images/slideger1.png)\n",
        "\n",
        "Configure parameters."
      ]
    },
    {
      "cell_type": "code",
      "metadata": {},
      "source": [
        "# configure parameters\n",
        "lnm = 14 \n",
        "lns = 5\n",
        "sts = generate_logn_sts(1, 1000, lnm, lns)[0] # sampling population for array service times\n",
        "iats = np.array([0, 15, 15, 15, 15, 15, 15, 15, 15, 15, 15, 15], dtype=object) # inter-arrival times\n",
        "nsims = nsims # number of simulations\n",
        "ctsm = np.random.choice(cts, size = (nsims * len(iats)), p=pct).reshape((nsims, len(iats))) # client types matrix\n",
        "stsm = np.random.lognormal(mean = logn_mean_lns(lnm, lns)[0], sigma=logn_mean_lns(lnm, lns)[1], size=(nsims * len(iats))).reshape((nsims, len(iats))) # service times matrix\n",
        "nsm = np.random.binomial(n=1, p=1-ns, size = nsims * len(iats)).reshape((nsims, len(iats))) # no-shows matrix\n",
        "stsm = stsm * nsm # service times matrix with no-shows\n",
        "simres = [] # array for saving simulation results"
      ],
      "execution_count": null,
      "outputs": []
    },
    {
      "cell_type": "markdown",
      "metadata": {},
      "source": [
        "Run simulations."
      ]
    },
    {
      "cell_type": "code",
      "metadata": {},
      "source": [
        "# run simulations\n",
        "for s in range(nsims):\n",
        "  # experiment = simulate(iats, cts, sts, pct, ns, logs=logs)\n",
        "  experiment = simulate_crn(iats, ctsm[s], stsm[s], logs=logs)\n",
        "  simres.append(experiment.mean())\n",
        "  \n",
        "mwt = np.array(simres).mean()"
      ],
      "execution_count": null,
      "outputs": []
    },
    {
      "cell_type": "markdown",
      "metadata": {},
      "source": [
        "Plot histogram of waiting times"
      ]
    },
    {
      "cell_type": "code",
      "metadata": {},
      "source": [
        "# plot histogram of waiting times\n",
        "fig = sns.histplot(simres)\n",
        "fig.set(title=f\"Mean waiting time= {mwt}\")"
      ],
      "execution_count": null,
      "outputs": []
    },
    {
      "cell_type": "markdown",
      "metadata": {},
      "source": [
        "## Run simulation 2\n",
        "\n",
        "![](images/slideger2.png)\n",
        "\n",
        "Configure parameters."
      ]
    },
    {
      "cell_type": "code",
      "metadata": {},
      "source": [
        "# Configure parameters\n",
        "lnm = 14\n",
        "lns = 10\n",
        "sts = generate_logn_sts(1, 1000, lnm, lns)[0] # sampling population for array service times\n",
        "iats = np.array([0, 0, 15, 15, 15, 15, 15, 15, 15, 15, 15, 15]) # inter-arrival times\n",
        "nsims = nsims # number of simulations\n",
        "ctsm = np.random.choice(cts, size = (nsims * len(iats)), p=pct).reshape((nsims, len(iats))) # client types matrix\n",
        "stsm = np.random.lognormal(mean = logn_mean_lns(lnm, lns)[0], sigma=logn_mean_lns(lnm, lns)[1], size=(nsims * len(iats))).reshape((nsims, len(iats))) # service times matrix\n",
        "nsm = np.random.binomial(n=1, p=1-ns, size = nsims * len(iats)).reshape((nsims, len(iats))) # no-shows matrix\n",
        "stsm = stsm * nsm # service times matrix with no-shows\n",
        "simres = [] # array for saving silnmlation results"
      ],
      "execution_count": null,
      "outputs": []
    },
    {
      "cell_type": "markdown",
      "metadata": {},
      "source": [
        "Run simulations."
      ]
    },
    {
      "cell_type": "code",
      "metadata": {},
      "source": [
        "# run simulations\n",
        "for s in range(nsims):\n",
        "  # experiment = simulate(iats, cts, sts, pct, ns, logs=logs)\n",
        "  experiment = simulate_crn(iats, ctsm[s], stsm[s], logs=logs)\n",
        "  simres.append(experiment.mean())\n",
        "\n",
        "mwt = np.array(simres).mean()"
      ],
      "execution_count": null,
      "outputs": []
    },
    {
      "cell_type": "markdown",
      "metadata": {},
      "source": [
        "Plot histogram of waiting times."
      ]
    },
    {
      "cell_type": "code",
      "metadata": {},
      "source": [
        "# plot histogram of waiting times\n",
        "fig = sns.histplot(simres)\n",
        "fig.set(title=f\"Mean waiting time = {mwt}\")"
      ],
      "execution_count": null,
      "outputs": []
    },
    {
      "cell_type": "markdown",
      "metadata": {},
      "source": [
        "## Run simulation 3\n",
        "\n",
        "![](images/slideger3.png)\n",
        "\n",
        "Configure parameters."
      ]
    },
    {
      "cell_type": "code",
      "metadata": {},
      "source": [
        "# configure parameters\n",
        "lnm = 14\n",
        "lns = 10\n",
        "sts = generate_logn_sts(1, 1000, lnm, lns)[0] # sampling population for array service times\n",
        "iats = np.array([0, 0, 0, 0, 60, 0, 0, 0, 60, 0, 0, 0]) # inter-arrival times\n",
        "\n",
        "nsims = nsims # number of simulations\n",
        "simres = [] # array for saving simulation results"
      ],
      "execution_count": null,
      "outputs": []
    },
    {
      "cell_type": "markdown",
      "metadata": {},
      "source": [
        "Run simulations."
      ]
    },
    {
      "cell_type": "code",
      "metadata": {},
      "source": [
        "# run simulations\n",
        "for s in range(nsims):\n",
        "  # experiment = simulate(iats, cts, sts, pct, ns, logs=logs)\n",
        "  experiment = simulate_crn(iats, ctsm[s], stsm[s], logs=logs)\n",
        "  simres.append(experiment.mean())\n",
        "  \n",
        "mwt = np.array(simres).mean()"
      ],
      "execution_count": null,
      "outputs": []
    },
    {
      "cell_type": "markdown",
      "metadata": {},
      "source": [
        "Plot histogram of waiting times"
      ]
    },
    {
      "cell_type": "code",
      "metadata": {},
      "source": [
        "# plot histogram of waiting times\n",
        "fig = sns.histplot(simres)\n",
        "fig.set(title=f\"Mean waiting time = {mwt}\")"
      ],
      "execution_count": null,
      "outputs": []
    }
  ],
  "metadata": {
    "kernelspec": {
      "name": "envpy39",
      "language": "python",
      "display_name": "envpy39"
    }
  },
  "nbformat": 4,
  "nbformat_minor": 4
}