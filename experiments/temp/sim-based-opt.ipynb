{
  "cells": [
    {
      "cell_type": "raw",
      "metadata": {},
      "source": [
        "---\n",
        "title: \"Simulation Based Optimization\"\n",
        "---"
      ]
    },
    {
      "cell_type": "markdown",
      "metadata": {},
      "source": [
        "## Setup\n",
        "\n",
        "See \"Scheduling Simulation\" for all function descriptions."
      ]
    },
    {
      "cell_type": "code",
      "metadata": {},
      "source": [
        "import numpy as np\n",
        "import pandas as pd\n",
        "from matplotlib import pyplot as plt\n",
        "import seaborn as sns\n",
        "import time\n",
        "import functions as fn"
      ],
      "execution_count": null,
      "outputs": []
    },
    {
      "cell_type": "markdown",
      "metadata": {},
      "source": [
        "Configure global simulation parameters."
      ]
    },
    {
      "cell_type": "code",
      "metadata": {},
      "source": [
        "## Global variables\n",
        "\n",
        "cts = np.array([0, 1]) # client types -> normal or emergency\n",
        "pct = np.array([1, 0]) # distribution of client types -> normal or emergency\n",
        "# sts = np.array([14, 14, 14, 15, 16]) # service times - for simple numerical testing\n",
        "# sts = np.random.poisson(lam=14, size=1000) - using poisson distribution\n",
        "\n",
        "ns = 0.1 # percentage of no-shows\n",
        "nsims = 100000 # number of simulations\n",
        "logs = False # do not print simulation logs\n",
        "lnm = 14 # lognormal mean\n",
        "lns = 5 # lognormal standard deviation\n",
        "nm = fn.logn_mean_lns(lnm, lns)[0] # normal mean\n",
        "ns = fn.logn_mean_lns(lnm, lns)[1] # normal standard deviation\n",
        "d = 15 # interval time\n",
        "sts = fn.generate_logn_sts(1, 10000, lnm, lns)[0] # sampling population for array service"
      ],
      "execution_count": null,
      "outputs": []
    },
    {
      "cell_type": "markdown",
      "metadata": {},
      "source": [
        "## Run simulations"
      ]
    },
    {
      "cell_type": "code",
      "metadata": {},
      "source": [
        "# Simulation 1\n",
        "\n",
        "tic = time.time()\n",
        "sim = np.array([1, 1, 1, 1, 1, 1, 1, 1, 1, 1, 1, 1]) # initial schedule\n",
        "iats = fn.transform_schedule_iats(sim, d) # initial inter-arrival times\n",
        "iats_d = np.diff(iats)\n",
        "N = len(iats) # number of patients\n",
        "# T = len(sim) # number of intervals\n",
        "ctsm = np.random.choice(cts, size = (nsims * N), p=pct).reshape((nsims, N)) # client types matrix\n",
        "stsm = np.random.lognormal(mean = nm, sigma=ns, size=(nsims * N)).reshape(nsims, N) # service times matrix\n",
        "nsm = np.random.binomial(n=1, p=1-ns, size = (nsims * N)).reshape(nsims, N) # no-shows matrix\n",
        "stsm = stsm * nsm # service times matrix with no-shows\n",
        "simreswt = []\n",
        "simresln = 0\n",
        "\n",
        "for i in range(nsims):\n",
        "  experiment = fn.simulate_crn(iats, ctsm[i], stsm[i], logs=logs)\n",
        "  simreswt.append(experiment[0].mean())\n",
        "  ln = max(0, (experiment[1] - d))\n",
        "  simresln += ln\n",
        "  \n",
        "mwt = np.array(simreswt).mean()\n",
        "mln = simresln / nsims\n",
        "loss = loss = 0.5 * mwt + 0.5 * mln\n",
        "toc = time.time()\n",
        "print(toc - tic)\n",
        "# plots\n",
        "\n",
        "fig1, (axs1, axs2) = plt.subplots(2, sharey=True, tight_layout=True)\n",
        "axs1.plot(iats, label=\"iats\")\n",
        "axs1.set_title(f'iats: {iats}')\n",
        "axs2.plot(iats_d, label=\"iats_d\")\n",
        "axs2.set_title(f'iats_d: {iats_d}')\n",
        "fig2, axs3 = plt.subplots(1, sharey=True, tight_layout=True)\n",
        "axs3.hist(simreswt, bins = 300)\n",
        "axs3.set_title(f'schedule: {sim}, mwt: {mwt}, mln: {mln}, loss: {loss}')"
      ],
      "execution_count": null,
      "outputs": []
    },
    {
      "cell_type": "code",
      "metadata": {},
      "source": [
        "# Simulation 2\n",
        "\n",
        "sim = np.array([2, 0, 1, 1, 1, 1, 1, 1, 1, 1, 1, 1]) # initial schedule\n",
        "iats = fn.transform_schedule_iats(sim, d) # initial inter-arrival times\n",
        "iats_d = np.diff(iats)\n",
        "simreswt = []\n",
        "simresln = 0\n",
        "\n",
        "\n",
        "for i in range(nsims):\n",
        "  experiment = fn.simulate_crn(iats, ctsm[i], stsm[i], logs=logs)\n",
        "  simreswt.append(experiment[0].mean())\n",
        "  ln = max(0, (experiment[1] - d))\n",
        "  simresln += ln\n",
        "  \n",
        "\n",
        "mwt = np.array(simreswt).mean()\n",
        "mln = simresln / nsims\n",
        "loss = 0.5 * mwt + 0.5 * mln\n",
        "\n",
        "# plot histogram of waiting times\n",
        "\n",
        "fig1, (axs1, axs2) = plt.subplots(2, sharey=True, tight_layout=True)\n",
        "axs1.plot(iats, label=\"iats\")\n",
        "axs1.set_title(f'iats: {iats}')\n",
        "axs2.plot(iats_d, label=\"iats_d\")\n",
        "axs2.set_title(f'iats_d: {iats_d}')\n",
        "fig2, axs3 = plt.subplots(1, sharey=True, tight_layout=True)\n",
        "axs3.hist(simreswt, bins = 300)\n",
        "axs3.set_title(f'schedule: {sim}, mwt: {mwt}, mln: {mln}, loss: {loss}')"
      ],
      "execution_count": null,
      "outputs": []
    },
    {
      "cell_type": "code",
      "metadata": {},
      "source": [
        "# Simulation 3\n",
        "\n",
        "sim = np.array([1, 1, 1, 2, 0, 1, 1, 1, 1, 1, 1, 1]) # initial schedule\n",
        "iats = fn.transform_schedule_iats(sim, d) # initial inter-arrival times\n",
        "iats_d = np.diff(iats)\n",
        "simreswt = []\n",
        "simresln = 0\n",
        "\n",
        "\n",
        "for i in range(nsims):\n",
        "  experiment = fn.simulate_crn(iats, ctsm[i], stsm[i], logs=logs)\n",
        "  simreswt.append(experiment[0].mean())\n",
        "  ln = max(0, (experiment[1] - d))\n",
        "  simresln += ln\n",
        "  \n",
        "\n",
        "mwt = np.array(simreswt).mean()\n",
        "mln = simresln / nsims\n",
        "loss = 0.5 * mwt + 0.5 * mln\n",
        "\n",
        "# plot histogram of waiting times\n",
        "\n",
        "fig1, (axs1, axs2) = plt.subplots(2, sharey=True, tight_layout=True)\n",
        "axs1.plot(iats, label=\"iats\")\n",
        "axs1.set_title(f'iats: {iats}')\n",
        "axs2.plot(iats_d, label=\"iats_d\")\n",
        "axs2.set_title(f'iats_d: {iats_d}')\n",
        "fig2, axs3 = plt.subplots(1, sharey=True, tight_layout=True)\n",
        "axs3.hist(simreswt, bins = 300)\n",
        "axs3.set_title(f'schedule: {sim}, mwt: {mwt}, mln: {mln}, loss: {loss}')"
      ],
      "execution_count": null,
      "outputs": []
    },
    {
      "cell_type": "code",
      "metadata": {},
      "source": [
        "# Simulation 4\n",
        "\n",
        "sim = np.array([1, 1, 1, 1, 1, 2, 0, 1, 1, 1, 1, 1]) # initial schedule\n",
        "iats = fn.transform_schedule_iats(sim, d) # initial inter-arrival times\n",
        "iats_d = np.diff(iats)\n",
        "simreswt = []\n",
        "simresln = 0\n",
        "\n",
        "\n",
        "for i in range(nsims):\n",
        "  experiment = fn.simulate_crn(iats, ctsm[i], stsm[i], logs=logs)\n",
        "  simreswt.append(experiment[0].mean())\n",
        "  ln = max(0, (experiment[1] - d))\n",
        "  simresln += ln\n",
        "  \n",
        "\n",
        "mwt = np.array(simreswt).mean()\n",
        "mln = simresln / nsims\n",
        "loss = 0.5 * mwt + 0.5 * mln\n",
        "\n",
        "# plots\n",
        "\n",
        "fig1, (axs1, axs2) = plt.subplots(2, sharey=True, tight_layout=True)\n",
        "axs1.plot(iats, label=\"iats\")\n",
        "axs1.set_title(f'iats: {iats}')\n",
        "axs2.plot(iats_d, label=\"iats_d\")\n",
        "axs2.set_title(f'iats_d: {iats_d}')\n",
        "fig2, axs3 = plt.subplots(1, sharey=True, tight_layout=True)\n",
        "axs3.hist(simreswt, bins = 300)\n",
        "axs3.set_title(f'schedule: {sim}, mwt: {mwt}, mln: {mln}, loss: {loss}')"
      ],
      "execution_count": null,
      "outputs": []
    }
  ],
  "metadata": {
    "kernelspec": {
      "name": "envpy39",
      "language": "python",
      "display_name": "envpy39"
    }
  },
  "nbformat": 4,
  "nbformat_minor": 4
}