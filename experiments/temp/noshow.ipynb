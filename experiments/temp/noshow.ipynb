{
  "cells": [
    {
      "cell_type": "raw",
      "metadata": {},
      "source": [
        "---\n",
        "title: \"No-shows and emergency patients\"\n",
        "bibliography: \"bibliography.bib\"\n",
        "format:\n",
        "  html:\n",
        "    page-layout: full\n",
        "---"
      ]
    },
    {
      "cell_type": "markdown",
      "metadata": {},
      "source": [
        "This code replicates methods from @kaandorp_optimal_2007.\n",
        "\n",
        "![](images/20230831_105330.jpeg)\n",
        "\n",
        "Let the number of arriving emergency patients be $Y$. Then the amount of work arriving is the Y-fold convolution of the vector representing the service time for emergency patients, $s_e^{(Y)}$. In this vector the $j$th element $s_{ej}$ denotes the probability that the service time of an emergency patient is $j$ minutes. Then the distribution of the amount of emergency work arriving at the start of any interval is given by:\n",
        "\n",
        "$$v_0(i) = \\sum\\limits_{y=1}^{\\infty}s_{ei}^{(Y)}P(Y=y) = \\Big(\\sum\\limits_{y=1}^{\\infty}P(Y=y)s_{e}^{(y)}\\Big)_i$$"
      ]
    },
    {
      "cell_type": "code",
      "metadata": {},
      "source": [
        "import numpy as np\n",
        "from scipy.stats import poisson\n",
        "import plotly.graph_objs as go\n",
        "import plotly.offline as pyo\n",
        "\n",
        "def service_time_with_no_shows(s, q):\n",
        "  # \"\"\"\n",
        "  # Function to adjust a distribution of service times for no-shows\n",
        "  # \n",
        "  # Args:\n",
        "  #     s (numpy.ndarray): An array with service times.\n",
        "  #     q (double): The fraction of no-shows.\n",
        "  # \n",
        "  # Returns:\n",
        "  #     numpy.ndarray: The adjusted array of service times.\n",
        "  # \"\"\"\n",
        "  \n",
        "  s_adj = s * (1-q)\n",
        "  s_adj[0] = s_adj[0] + q\n",
        "  \n",
        "  return(s_adj)\n",
        "\n",
        "def add_lists(short_list, long_list):\n",
        "  # \"\"\"\n",
        "  # This function takes in two lists and returns a new list where each element \n",
        "  # is the sum of the elements from the input lists at the corresponding position.\n",
        "  # If the lists are of different lengths, the shorter list is extended with zeros \n",
        "  # to match the length of the longer list.\n",
        "  # \n",
        "  # Parameters:\n",
        "  # - short_list (list): The shorter list of numbers.\n",
        "  # - long_list (list): The longer list of numbers.\n",
        "  # \n",
        "  # Returns:\n",
        "  # - list: A list containing the element-wise sum of the two input lists.\n",
        "  # \"\"\"\n",
        "  \n",
        "  # Extend the short lists to the length of the long list with zeros\n",
        "  short_list.extend([0] * (len(long_list) - len(short_list)))\n",
        "  \n",
        "  # Sum the elements of the two lists element-wise\n",
        "  result = [a + b for a, b in zip(short_list, long_list)]\n",
        "  \n",
        "  return result\n",
        "\n",
        "def calculate_rolling_convolution(p_y, s, limit):\n",
        "  conv_list = s\n",
        "  v = [x * p_y[0] for x in conv_list]\n",
        "  for i in range(1, limit):\n",
        "    conv_list = np.convolve(conv_list, s)\n",
        "    v = add_lists(v, [x * p_y[i] for x in conv_list])\n",
        "  print(f'conv_list = {conv_list[:10]} (first ten elements) with sum {sum(conv_list)}, v = {v[:10]} with sum {sum(v)}')\n",
        "  return(v)"
      ],
      "execution_count": null,
      "outputs": []
    },
    {
      "cell_type": "code",
      "metadata": {},
      "source": [
        "### TEST ###\n",
        "\n",
        "s = np.array([0.0, 0.5, 0.2, 0.3])\n",
        "q = 0.1\n",
        "s_adj = service_time_with_no_shows(s, q)\n",
        "print(f'adjusted service times={s_adj}, with sum  {s_adj.sum()}')"
      ],
      "execution_count": null,
      "outputs": []
    },
    {
      "cell_type": "code",
      "metadata": {},
      "source": [
        "### TEST 2 ###\n",
        "\n",
        "p_y = [0.5, 0.3, 0.2]\n",
        "s = [0.1, 0.2, 0.7]\n",
        "limit = 3\n",
        "v = calculate_rolling_convolution(p_y, s, limit)"
      ],
      "execution_count": null,
      "outputs": []
    },
    {
      "cell_type": "code",
      "metadata": {},
      "source": [
        "trace = go.Scatter(\n",
        "            x = list(range(len(v))),\n",
        "            y = v,\n",
        "            mode = 'lines'\n",
        "        )\n",
        "        \n",
        "data = [trace]\n",
        "\n",
        "layout = go.Layout(\n",
        "    title = f'distribution of v',\n",
        "    xaxis = dict(title='Time'),\n",
        "    yaxis = dict(title='Probability')\n",
        ")\n",
        "\n",
        "fig = go.Figure(data=data, layout=layout)\n",
        "pyo.iplot(fig)"
      ],
      "execution_count": null,
      "outputs": []
    },
    {
      "cell_type": "code",
      "metadata": {},
      "source": [
        "### TEST 3 ###\n",
        "\n",
        "len_y = 300\n",
        "len_se = 300\n",
        "p_y = [poisson.pmf(i, 2) for i in range(0, len_y)]\n",
        "se = [poisson.pmf(j, 10) for j in range(0, len_se)]\n",
        "print(sum(p_y), sum(se))\n",
        "\n",
        "\n",
        "v = calculate_rolling_convolution(p_y, se, len_y)"
      ],
      "execution_count": null,
      "outputs": []
    },
    {
      "cell_type": "code",
      "metadata": {},
      "source": [
        "trace = go.Scatter(\n",
        "            x = list(range(len(v))),\n",
        "            y = v[:len_y],\n",
        "            mode = 'lines'\n",
        "        )\n",
        "        \n",
        "data = [trace]\n",
        "\n",
        "layout = go.Layout(\n",
        "    title = f'distribution of v',\n",
        "    xaxis = dict(title='Time'),\n",
        "    yaxis = dict(title='Probability')\n",
        ")\n",
        "\n",
        "fig = go.Figure(data=data, layout=layout)\n",
        "pyo.iplot(fig)"
      ],
      "execution_count": null,
      "outputs": []
    }
  ],
  "metadata": {
    "kernelspec": {
      "name": "envpy39",
      "language": "python",
      "display_name": "envpy39"
    }
  },
  "nbformat": 4,
  "nbformat_minor": 4
}