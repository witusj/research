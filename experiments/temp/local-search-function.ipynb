{
  "cells": [
    {
      "cell_type": "raw",
      "metadata": {},
      "source": [
        "---\n",
        "title: \"Local Search Function\"\n",
        "bibliography: \"bibliography.bib\"\n",
        "format:\n",
        "  html:\n",
        "    page-layout: full\n",
        "---"
      ]
    },
    {
      "cell_type": "markdown",
      "metadata": {},
      "source": [
        "This code replicates methods from @kaandorp_optimal_2007."
      ]
    },
    {
      "cell_type": "code",
      "metadata": {},
      "source": [
        "import logging\n",
        "import copy\n",
        "import datetime\n",
        "import numpy as np\n",
        "from scipy.stats import poisson\n",
        "from scipy.stats import lognorm\n",
        "from scipy import signal\n",
        "from scipy.special import comb\n",
        "import plotly.graph_objs as go\n",
        "import plotly.offline as pyo\n",
        "from itertools import chain, combinations\n",
        "import copy"
      ],
      "execution_count": null,
      "outputs": []
    },
    {
      "cell_type": "markdown",
      "metadata": {},
      "source": [
        "Schedule $x$ is a vector with each element representing the number of scheduled patients."
      ]
    },
    {
      "cell_type": "code",
      "metadata": {},
      "source": [
        "#x = [2, 1, 0, 2]\n",
        "x = [2, 0, 0, 0, 2]"
      ],
      "execution_count": null,
      "outputs": []
    },
    {
      "cell_type": "markdown",
      "metadata": {},
      "source": [
        "The number of possible schedules is\n",
        "\n",
        "$$\\dbinom{N+T-1}{N}$$"
      ]
    },
    {
      "cell_type": "code",
      "metadata": {},
      "source": [
        "N = sum(x)\n",
        "T = len(x)\n",
        "result = comb(N + T - 1, N, exact=True)  # exact=True returns the exact integer\n",
        "print(result) "
      ],
      "execution_count": null,
      "outputs": []
    },
    {
      "cell_type": "code",
      "metadata": {},
      "source": [
        "def powerset(iterable):\n",
        "    \"powerset([1,2,3]) --> () (1,) (2,) (3,) (1,2) (1,3) (2,3) (1,2,3)\"\n",
        "    s = list(iterable)\n",
        "    return [list(item) for item in chain.from_iterable(combinations(s, r) for r in range(len(s)+1))]"
      ],
      "execution_count": null,
      "outputs": []
    },
    {
      "cell_type": "code",
      "metadata": {},
      "source": [
        "test = powerset([1,2,3])\n",
        "list(test)"
      ],
      "execution_count": null,
      "outputs": []
    },
    {
      "cell_type": "markdown",
      "metadata": {},
      "source": [
        "Define the vectors\n",
        "\n",
        "$$\n",
        "\\left\\{\n",
        "\\begin{array}{c}\n",
        "\\vec{u_1}, \\\\\n",
        "\\vec{u_2}, \\\\\n",
        "\\vec{u_3}, \\\\\n",
        "\\vdots \\\\\n",
        "\\vec{u_{T-1}}, \\\\\n",
        "\\vec{u_T} \\\\\n",
        "\\end{array}\n",
        "\\right\\} = \n",
        "\\left\\{\n",
        "\\begin{array}{c}\n",
        "(-1, 0,...., 0, 1), \\\\\n",
        "(1, -1, 0,...., 0), \\\\\n",
        "(0, 1, -1,...., 0), \\\\\n",
        "\\vdots \\\\\n",
        "(0,...., 1, -1, 0), \\\\\n",
        "(0,...., 0, 1, -1) \\\\\n",
        "\\end{array}\n",
        "\\right\\}\n",
        "$$ and take $V^* = \\{u_1,....,u_T\\}$."
      ]
    },
    {
      "cell_type": "code",
      "metadata": {},
      "source": [
        "def get_v_star(t):\n",
        "    # Create an initial vector 'u' of zeros with length 't'\n",
        "    u = np.zeros(t)\n",
        "    # Set the first element of vector 'u' to -1\n",
        "    u[0] = -1\n",
        "    # Set the last element of vector 'u' to 1\n",
        "    u[-1] = 1\n",
        "    # Initialize the list 'v_star' with the initial vector 'u'\n",
        "    v_star = [u]\n",
        "    # Loop over the length of 'u' minus one times\n",
        "    for i in range(len(u) - 1):\n",
        "        # Append the last element of 'u' to the front of 'u'\n",
        "        u = np.append(u[-1], u)\n",
        "        # Remove the last element of 'u' to maintain the same length\n",
        "        u = np.delete(u, -1)\n",
        "        # Append the updated vector 'u' to the list 'v_star'\n",
        "        v_star.append(u)\n",
        "    # Convert the list of vectors 'v_star' into a NumPy array and return it\n",
        "    return(np.array(v_star))\n",
        "\n",
        "# Example of function call:\n",
        "# This will create a 4x4 matrix where each row is a cyclically shifted version of the first row\n",
        "get_v_star(4)"
      ],
      "execution_count": null,
      "outputs": []
    },
    {
      "cell_type": "markdown",
      "metadata": {},
      "source": [
        "As the neighborhood of schedule $x$ we take all vectors of the form $x + v_1+..+v_k$ with $v_1,....,v_k \\in V^*$"
      ]
    },
    {
      "cell_type": "code",
      "metadata": {},
      "source": [
        "# Set the value of 't'\n",
        "t = len(x)\n",
        "\n",
        "# Generate a matrix 'v_star' using the 'get_v_star' function\n",
        "v_star = get_v_star(t)\n",
        "\n",
        "# Generate all possible non-empty subsets (powerset) of the set {0, 1, 2, ..., t-1}\n",
        "# 'ids' will be a list of tuples, where each tuple is a subset of indices\n",
        "ids = list(powerset(range(t)))\n",
        "\n",
        "# Select the vectors from 'v_star' that correspond to the indices in each subset\n",
        "# 'sub_sets' will be a list of lists, where each inner list contains vectors from 'v_star'\n",
        "sub_sets = [v_star[i] for i in ids]\n",
        "\n",
        "# Sum the vectors within each subset and flatten the result to get a 1-D array\n",
        "# 'summed_sets' will be a list of 1-D numpy arrays, where each array is the sum of vectors\n",
        "summed_sets = [np.sum(sub_sets[i], axis=0).flatten() for i in range(len(sub_sets))]\n",
        "\n",
        "# 'summed_sets' is the final output\n",
        "summed_sets"
      ],
      "execution_count": null,
      "outputs": []
    },
    {
      "cell_type": "code",
      "metadata": {},
      "source": [
        "y = np.array([x + summed_sets[i] for i in range(len(summed_sets))])\n",
        "y"
      ],
      "execution_count": null,
      "outputs": []
    },
    {
      "cell_type": "markdown",
      "metadata": {},
      "source": [
        "such that $x + v_1+..+v_k \\ge 0$"
      ]
    },
    {
      "cell_type": "code",
      "metadata": {},
      "source": [
        "import numpy as np\n",
        "\n",
        "# Create a mask for rows with negative values\n",
        "mask = ~np.any(y < 0, axis=1)\n",
        "\n",
        "# Filter out rows with negative values using the mask\n",
        "filtered_y = y[mask]\n",
        "\n",
        "filtered_y"
      ],
      "execution_count": null,
      "outputs": []
    },
    {
      "cell_type": "markdown",
      "metadata": {},
      "source": [
        "So the whole neighborhood function becomes."
      ]
    },
    {
      "cell_type": "code",
      "metadata": {},
      "source": [
        "def generate_search_neighborhood(schedule):\n",
        "  N = sum(schedule)\n",
        "  T = len(schedule)\n",
        "  print(f'The schedule = {schedule}')\n",
        "  \n",
        "  # Generate a matrix 'v_star' using the 'get_v_star' function\n",
        "  v_star = get_v_star(T)\n",
        "  \n",
        "  # Generate all possible non-empty subsets (powerset) of the set {0, 1, 2, ..., T-1}\n",
        "  # 'ids' will be a list of tuples, where each tuple is a subset of indices\n",
        "  ids = list(powerset(range(T)))\n",
        "\n",
        "  # Select the vectors from 'v_star' that correspond to the indices in each subset\n",
        "  # 'sub_sets' will be a list of lists, where each inner list contains vectors from 'v_star'\n",
        "  sub_sets = [v_star[i] for i in ids]\n",
        "\n",
        "  # Sum the vectors within each subset and flatten the result to get a 1-D array\n",
        "  # 'summed_sets' will be a list of 1-D numpy arrays, where each array is the sum of vectors\n",
        "  summed_sets = [np.sum(sub_sets[i], axis=0).flatten() for i in range(len(sub_sets))]\n",
        "  \n",
        "  neighborhood = np.array([schedule + summed_sets[i] for i in range(len(summed_sets))])\n",
        "  \n",
        "  # Create a mask for rows with negative values\n",
        "  mask = ~np.any(neighborhood < 0, axis=1)\n",
        "\n",
        "  # Filter out rows with negative values using the mask\n",
        "  filtered_neighborhood = neighborhood[mask]\n",
        "  print(f'And the neighborhood is {filtered_neighborhood}')\n",
        "  return filtered_neighborhood\n",
        "\n",
        "testnh = generate_search_neighborhood(x)"
      ],
      "execution_count": null,
      "outputs": []
    },
    {
      "cell_type": "markdown",
      "metadata": {},
      "source": [
        "Let the objective function be a simple sum of square."
      ]
    },
    {
      "cell_type": "code",
      "metadata": {},
      "source": [
        "def obj_function(x):\n",
        "  res = sum(map(lambda i: i * i, x))\n",
        "  return res\n",
        "\n",
        "obj_function(np.array(x))"
      ],
      "execution_count": null,
      "outputs": []
    },
    {
      "cell_type": "markdown",
      "metadata": {},
      "source": [
        "The algorithm for computing an optimal schedule becomes."
      ]
    },
    {
      "cell_type": "code",
      "metadata": {},
      "source": [
        "def search_best_solution(x):\n",
        "    obj_value = obj_function(x)\n",
        "    \n",
        "    # Keep track of the best solution found\n",
        "    best_solution = x.copy()\n",
        "    \n",
        "    # Continue the search until no improvement is found\n",
        "    while True:  # Start an outer loop that will continue until explicitly broken\n",
        "        nh = generate_search_neighborhood(best_solution)  # Generate a new neighborhood\n",
        "        improved = False  # Flag to check if an improvement was found in the inner loop\n",
        "        \n",
        "        for y in nh:  # Inner loop to search through the neighborhood\n",
        "            c = obj_function(y)\n",
        "            if c < obj_value:\n",
        "                obj_value = c\n",
        "                best_solution = y.copy()\n",
        "                print(f'Found better schedule {best_solution} with objective value {obj_value}')\n",
        "                improved = True  # Set the flag because an improvement was found\n",
        "                break  # Exit the inner loop to generate a new neighborhood\n",
        "        \n",
        "        if not improved:  # If no improvement was found in the inner loop\n",
        "            break  # Exit the outer loop - the search is complete\n",
        "\n",
        "    return best_solution, obj_value\n",
        "\n",
        "# Example usage:\n",
        "x = [5, 0, 0, 0, 1]\n",
        "initial_solution = x  # Replace this with your actual initial solution\n",
        "best_solution, best_obj_value = search_best_solution(initial_solution)\n",
        "print(\"Best solution found:\", best_solution)\n",
        "print(\"Objective value of the best solution:\", best_obj_value)"
      ],
      "execution_count": null,
      "outputs": []
    },
    {
      "cell_type": "code",
      "metadata": {},
      "source": [
        "def search_solutions_3d(s, obj_func):\n",
        "    \"\"\"\n",
        "    Perform a search for the best solution in a solution space using a neighborhood-based search algorithm.\n",
        "\n",
        "    Args:\n",
        "    s (list): The initial solution from which the search starts. Needs three elements x, y, z\n",
        "    obj_func (function): The objective function that evaluates the quality of a solution.\n",
        "\n",
        "    Returns:\n",
        "    list: The x, y, z coordinates (or components) of each solution in the search history.\n",
        "    list: The corresponding objective function values for each solution in the search history.\n",
        "\n",
        "    The function initializes with an initial solution 's' and evaluates it using the objective function 'obj_func'.\n",
        "    It then iteratively generates neighboring solutions, evaluates them, and keeps track of the best solution found so far.\n",
        "    The search continues until no further improvement is found in the neighborhood of the current best solution.\n",
        "    \"\"\"\n",
        "\n",
        "    # Evaluate the initial solution\n",
        "    obj_value = obj_func(s)\n",
        "    \n",
        "    # Initialize the best solution as the initial solution\n",
        "    best_solution = s.copy()\n",
        "    \n",
        "    # Initialize lists to keep track of the search history\n",
        "    x, y, z, f_v = [], [], [], []\n",
        "    \n",
        "    # Start an outer loop that continues until no improvement is found\n",
        "    while True:\n",
        "        # Generate a new neighborhood of solutions around the current best solution\n",
        "        nh = generate_search_neighborhood(best_solution)\n",
        "        \n",
        "        # Flag to check if an improvement was found in the current iteration\n",
        "        improved = False\n",
        "        \n",
        "        # Iterate over each solution in the neighborhood\n",
        "        for s in nh:\n",
        "            # Append the components of the solution to the history lists\n",
        "            x.append(s[0])\n",
        "            y.append(s[1])\n",
        "            z.append(s[2])\n",
        "            \n",
        "            # Evaluate the current solution\n",
        "            c = obj_func(s)\n",
        "            f_v.append(c)\n",
        "            print(f'Tested solution {s} with objective value {c}')\n",
        "            \n",
        "            # Check if the current solution is an improvement\n",
        "            if c < obj_value:\n",
        "                # Update the best solution and its objective value\n",
        "                obj_value = c\n",
        "                best_solution = s.copy()\n",
        "                print(f'Found better solution {best_solution} with objective value {obj_value}')\n",
        "                \n",
        "                # Mark that an improvement was found and exit the inner loop\n",
        "                improved = True\n",
        "                break\n",
        "        \n",
        "        # If no improvement was found in the entire neighborhood\n",
        "        if not improved:\n",
        "            # Exit the outer loop - the search is complete\n",
        "            break\n",
        "\n",
        "    # Return the search history\n",
        "    return x, y, z, f_v"
      ],
      "execution_count": null,
      "outputs": []
    },
    {
      "cell_type": "code",
      "metadata": {},
      "source": [
        "s = [3, 0, 0]\n",
        "x, y, z, f_v = search_solutions_3d(s, obj_function)\n",
        "\n",
        "# Determine the range for each axis to set the ticks\n",
        "s_range = range(int(min(s)), int(max(s)) + 1)\n",
        "\n",
        "fig = go.Figure(data=[go.Scatter3d(\n",
        "    x=x,\n",
        "    y=y,\n",
        "    z=z,\n",
        "    mode='markers',\n",
        "    marker=dict(\n",
        "        size=6,\n",
        "        color=f_v,  # Set color to function values\n",
        "        colorscale='Plotly3',\n",
        "        opacity=0.8,\n",
        "        showscale=True\n",
        "    ),\n",
        "    hoverinfo='text',\n",
        "    text=[f'x: {xi:.0f}, y: {yi:.0f}, z: {zi:.0f}, f_v: {value:.1f}' for xi, yi, zi, value in zip(x, y, z, f_v)]\n",
        ")])\n",
        "\n",
        "fig.update_layout(title='3D Function Visualization',\n",
        "                  scene=dict(\n",
        "                      xaxis=dict(title='X axis', tickmode='array', tickvals=list(s_range)),\n",
        "                      yaxis=dict(title='Y axis', tickmode='array', tickvals=list(s_range)),\n",
        "                      zaxis=dict(title='Z axis', tickmode='array', tickvals=list(s_range))\n",
        "                  ))\n",
        "\n",
        "fig.show()"
      ],
      "execution_count": null,
      "outputs": []
    }
  ],
  "metadata": {
    "kernelspec": {
      "name": "envpy39",
      "language": "python",
      "display_name": "envpy39"
    }
  },
  "nbformat": 4,
  "nbformat_minor": 4
}