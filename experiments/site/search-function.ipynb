{
  "cells": [
    {
      "cell_type": "raw",
      "metadata": {},
      "source": [
        "---\n",
        "title: \"Search Function\"\n",
        "---"
      ],
      "id": "ede47b6f"
    },
    {
      "cell_type": "markdown",
      "metadata": {},
      "source": [
        "## Setup\n",
        "\n",
        "See \"Scheduling Simulation\" for all function descriptions.\n"
      ],
      "id": "9ef5d877"
    },
    {
      "cell_type": "code",
      "metadata": {},
      "source": [
        "import numpy as np\n",
        "from matplotlib import pyplot as plt\n",
        "import time\n",
        "import functions as fn"
      ],
      "id": "c9f356ea",
      "execution_count": null,
      "outputs": []
    },
    {
      "cell_type": "markdown",
      "metadata": {},
      "source": [
        "Configure global simulation parameters.\n"
      ],
      "id": "bd9085e4"
    },
    {
      "cell_type": "code",
      "metadata": {},
      "source": [
        "## Global variables\n",
        "\n",
        "cts = np.array([0, 1]) # client types -> normal or emergency\n",
        "pct = np.array([1, 0]) # distribution of client types -> normal or emergency\n",
        "# sts = np.array([14, 14, 14, 15, 16]) # service times - for simple numerical testing\n",
        "# sts = np.random.poisson(lam=14, size=1000) - using poisson distribution\n",
        "\n",
        "ns = 0.1 # percentage of no-shows\n",
        "nsims = 100000 # number of simulations\n",
        "logs = False # do not print simulation logs\n",
        "lnm = 14 # lognormal mean\n",
        "lns = 5 # lognormal standard deviation\n",
        "nm = fn.logn_mean_lns(lnm, lns)[0] # normal mean\n",
        "ns = fn.logn_mean_lns(lnm, lns)[1] # normal standard deviation\n",
        "d = 15 # interval time\n",
        "sts = fn.generate_logn_sts(1, 10000, lnm, lns)[0] # sampling population for service times\n",
        "sim = np.zeros(12) \n",
        "i = np.arange(12, step=2)\n",
        "sim[i] = 1\n",
        "sim[-1] = 1\n",
        "sim[0] = 2 \n",
        "sim = sim.astype(int) # initial schedule\n",
        "psm = fn.patient_shift_matrix(sim) \n",
        "psm = psm.astype(int) # patient shifting matrix\n",
        "transf_to_iats = lambda x: fn.transform_schedule_iats(x, d) \n",
        "iats_sm = np.apply_along_axis(transf_to_iats, 1, psm) # iats shifting matrix\n",
        "iats_d_sm = np.diff(iats_sm) # first derivative iats shifting matrix\n",
        "N = iats_sm.shape[1] # number of patients\n",
        "T = psm.shape[1] # number of time slots\n",
        "ctsm = np.random.choice(cts, size = (nsims * N), p=pct).reshape((nsims, N)) # client types matrix\n",
        "stsm = np.random.lognormal(mean = nm, sigma=ns, size=(nsims * N)).reshape(nsims, N) # service times matrix\n",
        "nsm = np.random.binomial(n=1, p=1-ns, size = (nsims * N)).reshape(nsims, N) # no-shows matrix\n",
        "stsm = stsm * nsm # service times matrix with no-shows\n",
        "print(f'Running {nsims} simulations with {N} patients and {T} timeslots.')"
      ],
      "id": "f0b17807",
      "execution_count": null,
      "outputs": []
    },
    {
      "cell_type": "markdown",
      "metadata": {},
      "source": [
        "## Run simulations\n"
      ],
      "id": "609f6232"
    },
    {
      "cell_type": "code",
      "metadata": {},
      "source": [
        "# Simulations\n",
        "results = []\n",
        "for iats in iats_sm:\n",
        "  tic = time.time()\n",
        "  simreswt = [None] * nsims # array for saving waiting times\n",
        "  simresln = 0 # array for saving lateness\n",
        "  \n",
        "  for i in range(nsims):\n",
        "    experiment = fn.simulate_crn(iats, ctsm[i], stsm[i], logs=logs)\n",
        "    simreswt[i] = experiment[0].mean()\n",
        "    ln = max(0, (experiment[1] - d))\n",
        "    simresln += ln\n",
        "    \n",
        "  mwt = np.array(simreswt).mean()\n",
        "  mln = simresln / nsims\n",
        "  loss = 0.5 * mwt + 0.5 * mln\n",
        "  toc = time.time()\n",
        "  result = {\n",
        "      \"schedule\": fn.transform_iats_schedule(iats, d, T)[0],\n",
        "      \"iats\": iats,\n",
        "      \"iats_diff\": np.diff(iats),\n",
        "      \"loss\": loss,\n",
        "      \"calc_time\": toc - tic\n",
        "    }\n",
        "  results.append(result)\n",
        "  print(f'schedule: {result[\"schedule\"]},\\niats: {iats},\\niats_diff: {result[\"iats_diff\"]},\\nloss = {result[\"loss\"]}, \\\n",
        "  calc time: {result[\"calc_time\"]} secs')\n"
      ],
      "id": "4ddfabc7",
      "execution_count": null,
      "outputs": []
    },
    {
      "cell_type": "code",
      "metadata": {},
      "source": [
        "# Get start time and set timer seconds\n",
        "start_time = time.time()\n",
        "seconds = 20\n",
        "bestresult = \"\"\n",
        "\n",
        "# Start timer while loop\n",
        "while True:\n",
        "    current_time = time.time()\n",
        "    elapsed_time = current_time - start_time\n",
        "    \n",
        "    if elapsed_time > seconds:\n",
        "        print(\"Finished iterating in: \" + str(int(elapsed_time))  + \" seconds\")\n",
        "        break\n",
        "      \n",
        "    ## Start iterator for inter arrival times in shift matrix\n",
        "    results = []\n",
        "    for iats in iats_sm:\n",
        "      tic = time.time()\n",
        "      simreswt = [None] * nsims # array for saving waiting times\n",
        "      simresln = 0 # array for saving lateness\n",
        "      \n",
        "      for i in range(nsims):\n",
        "        experiment = fn.simulate_crn(iats, ctsm[i], stsm[i], logs=logs)\n",
        "        simreswt[i] = experiment[0].mean()\n",
        "        ln = max(0, (experiment[1] - d))\n",
        "        simresln += ln\n",
        "        \n",
        "      mwt = np.array(simreswt).mean()\n",
        "      mln = simresln / nsims\n",
        "      loss = 0.5 * mwt + 0.5 * mln\n",
        "      toc = time.time()\n",
        "      result = {\n",
        "          \"schedule\": fn.transform_iats_schedule(iats, d, T)[0],\n",
        "          \"iats\": iats,\n",
        "          \"iats_diff\": np.diff(iats),\n",
        "          \"loss\": loss,\n",
        "          \"calc_time\": toc - tic\n",
        "        }\n",
        "      if (bestresult == \"\" || result[\"loss\"] < bestresult):\n",
        "            bestresult = result[\"loss\"]\n",
        "            print(bestresult)\n",
        "      \n",
        "      results.append(result)\n",
        "      print(f'schedule: {result[\"schedule\"]},\\niats: {iats},\\niats_diff: {result[\"iats_diff\"]},\\nloss = {result[\"loss\"]}, \\\n",
        "  calc time: {result[\"calc_time\"]} secs')\n",
        "      \n",
        "### Simulate item of the shift matrix\n",
        "\n",
        "#### If loss is lower than previous save iats vector and loss\n",
        "\n",
        "## Calculate new shift matrix based upon best iats vector"
      ],
      "id": "af274255",
      "execution_count": null,
      "outputs": []
    }
  ],
  "metadata": {
    "kernelspec": {
      "name": "osmnx",
      "language": "python",
      "display_name": "osmnx"
    }
  },
  "nbformat": 4,
  "nbformat_minor": 5
}