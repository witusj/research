{
 "cells": [
  {
   "cell_type": "markdown",
   "metadata": {},
   "source": [
    "\n",
    "<CENTER>\n",
    "<p><font size=\"5\">  Queuing theory: from Markov chains to multiserver systems</font></p>\n",
    "<p><font size=\"5\">  Python Lab </p>\n",
    "<p><font size=\"5\">  Week I: simulation of random variables </p>\n",
    "</CENTER>\n",
    "\n",
    "----------------------------"
   ]
  },
  {
   "cell_type": "markdown",
   "metadata": {},
   "source": [
    "\n",
    "\n",
    "In this first lab, we are going to introduce basics of random variables simulation, focusing on the simulation of [exponential](https://en.wikipedia.org/wiki/Exponential_distribution) and [Poisson](https://en.wikipedia.org/wiki/Poisson_distribution) distributions, that play a central role in mathematical modelling of queues. \n",
    "\n",
    "We will see how to draw samples from distributions by the [inverse transform sampling method](https://en.wikipedia.org/wiki/Inverse_transform_sampling) or by using the [*Statistics* sublibrary of *Scipy*](https://docs.scipy.org/doc/scipy/reference/stats.html). We will use the inverse transform sampling method to draw samples from the exponential distribution. Then we will introduce the Poisson distribution. \n",
    "\n",
    "As explained in the general introduction to the labs (Week 0), to complete a lab, you will have to fill in undefined variables in the code. Then, the code will generate some variables named **Vi**, with **i=1,...** . You will find all the **Vi**s generated form your results by running the last cell of code of the lab.\n",
    "\n",
    "You can check your results by answering to the exercise at the end of the lab section where you will be asked for the values of the **Vi**s. \n",
    "\n",
    "----------------------------"
   ]
  },
  {
   "cell_type": "markdown",
   "metadata": {},
   "source": [
    "Let $F(x)=P(X\\leq x)$ denote the distribution function of some random variable $X$.\n",
    "When $F$ is continuous and strictly monotone increasing on the domain of $X$, then the random variable $U=F(X)$ with values in $[0,1]$ satisfies \n",
    "\n",
    "$$\n",
    "P(U\\leq u)=P(F(X)\\leq u)=P(X\\leq F^{-1}(u))=F(F^{-1}(u))=u,\\qquad \\forall u\\in[0,1].\n",
    "$$\n",
    "\n",
    "Thus, $U$ is a uniform random variable over [0,1], what we note $U\\sim\\mathcal{U}_{[0,1]}$. In other words, for all $a,b$, with $0\\leq a\\leq b\\leq 1$, then $P(U\\in[a,b])=b-a$. Conversly, the distribution function of the random variable $Y=F^{-1}(U)$ is $F$ when $U\\sim\\mathcal{U}_{[0,1]}$.\n",
    "\n",
    "**1)** Based on the above results explain how to draw samples from an $Exp(\\lambda)$ distribution.  Draw $N=10^5$ samples of an $Exp(\\lambda)$ distribution, for $\\lambda=2$. \n",
    "\n",
    "Calculate the mean $m$ and variance $\\sigma^2$ of an $Exp(\\lambda)$ distribution and compute the sample estimates of $m$ and $\\sigma^2$."
   ]
  },
  {
   "cell_type": "code",
   "execution_count": null,
   "metadata": {},
   "outputs": [],
   "source": [
    "%matplotlib inline              \n",
    "from pylab import *          "
   ]
  },
  {
   "cell_type": "code",
   "execution_count": null,
   "metadata": {},
   "outputs": [],
   "source": [
    "N = 10**5\n",
    "lambda_ = 2.0\n",
    "\n",
    "########################################\n",
    "# Supply the missing coefficient herein below\n",
    "V1    = ... \n",
    "data  = V1*log(rand(N))\n",
    "########################################\n",
    "m     = mean(data)\n",
    "v     = var(data)\n",
    "print(\"\\u03BB={0}: m={1:1.2f}, \\u03C3\\u00B2={2:1.2f}\"\n",
    "        .format(lambda_,m,v))  #\\u... for unicode caracters"
   ]
  },
  {
   "cell_type": "markdown",
   "metadata": {},
   "source": [
    "\n",
    "**2)** The discrete valued random variable $X$ follows a [Poisson distribution](https://en.wikipedia.org/wiki/Poisson_distribution) if its probabilities depend on a parameter $\\lambda$ and are such that\n",
    "\n",
    "$$\n",
    "P(X=k)=\\dfrac{\\lambda^k}{k!}e^{-\\lambda},\\quad{\\text for }\\;  k=0,1,2,\\ldots\n",
    "$$\n",
    "\n",
    "We denote by $\\mathcal{P}(\\lambda)$ the Poisson distribution with parameter $\\lambda$.\n",
    "\n",
    "As for continuous valued distributions, samples from discrete distributions can be obtained via the inverse transform sampling method. Alternatively, one can use the *statistics* sublibrary of *Scipy* to draw samples from the a Poisson distribution (https://docs.scipy.org/doc/scipy/reference/generated/scipy.stats.poisson.html).\n",
    "\n",
    "Draw $N=10^5$ samples from the Poisson distribution with parameter $\\lambda = 20$ and compute their sample mean and variance. Check that they are close to their theoretical values that are both equal to $\\lambda$\n",
    "\n",
    "\n",
    "\n",
    "-----------------"
   ]
  },
  {
   "cell_type": "markdown",
   "metadata": {},
   "source": [
    "### **Answer to question 2**"
   ]
  },
  {
   "cell_type": "code",
   "execution_count": null,
   "metadata": {},
   "outputs": [],
   "source": [
    "from scipy.stats import poisson\n",
    "\n",
    "lambda_ = 20\n",
    "N       = 10**5\n",
    "####################################\n",
    "# Give parameters mu and size in function poisson.rvs\n",
    "# (https://docs.scipy.org/doc/scipy/reference/generated/scipy.stats.poisson.html)\n",
    "sample = poisson.rvs(mu= ..., size= ...)\n",
    "####################################\n",
    "# mean and variance of sample vector \n",
    "mean_sample = mean(sample)\n",
    "var_sample  = var(sample)\n",
    "print((\"\\u03BB = {0}\\nestimated mean = {1:1.2f}\\n\"\n",
    "       +\"estimated var = {2:1.2f}\")\n",
    "      .format(lambda_,mean_sample, var_sample))\n",
    "\n",
    "#------------------------\n",
    "V2 = mean_sample"
   ]
  },
  {
   "cell_type": "markdown",
   "metadata": {},
   "source": [
    "# Your answers for the exercise"
   ]
  },
  {
   "cell_type": "code",
   "execution_count": null,
   "metadata": {},
   "outputs": [],
   "source": [
    "print(\"---------------------------\\n\"\n",
    "      +\"RESULTS SUPPLIED FOR LAB 1:\\n\"\n",
    "      +\"---------------------------\")\n",
    "results = (\"V\"+str(k) for k in range(1,3))\n",
    "for x in results:\n",
    "    try:\n",
    "        print(x+\" = {0:.2f}\".format(eval(x)))\n",
    "    except:\n",
    "        print(x+\": variable is undefined\")   "
   ]
  },
  {
   "cell_type": "code",
   "execution_count": null,
   "metadata": {},
   "outputs": [],
   "source": []
  }
 ],
 "metadata": {
  "kernelspec": {
   "display_name": "Python 3",
   "language": "python",
   "name": "python3"
  },
  "language_info": {
   "codemirror_mode": {
    "name": "ipython",
    "version": 3
   },
   "file_extension": ".py",
   "mimetype": "text/x-python",
   "name": "python",
   "nbconvert_exporter": "python",
   "pygments_lexer": "ipython3",
   "version": "3.6.2"
  }
 },
 "nbformat": 4,
 "nbformat_minor": 1
}
