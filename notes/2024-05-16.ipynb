{
  "cells": [
    {
      "cell_type": "raw",
      "metadata": {},
      "source": [
        "---\n",
        "title: '2024-05-16'\n",
        "author: Witek ten Hove\n",
        "format:\n",
        "  html:\n",
        "    include-in-header:\n",
        "      - scripts.html\n",
        "bibliography: bibliography.bib\n",
        "---"
      ],
      "id": "5fe5ee9e"
    },
    {
      "cell_type": "markdown",
      "metadata": {},
      "source": [
        "## OBP:\n",
        "\n",
        "Afspraken:\n",
        "\n",
        "-   [ ] We gaan verder kijken naar Simulation Optimization methodes\n",
        "\n",
        "-   [ ] Wellicht icm Gradient Boosting, mogelijk ML-toepassingen\n",
        "\n",
        "-   [ ] Onderzoeken wat de stand van zaken is mbt SO en Appointment Scheduling\n",
        "\n",
        "-   [ ] Start met artikel van @homem2022simulation\n",
        "\n",
        "-   [ ] Waarom zou het probleem dat besproken wordt in @homem2022simulation non-convex zijn?\n",
        "\n",
        "-   [ ] Aanmaken van Overleaf document voor samenwerking.\n",
        "\n",
        "-   [ ] Literatuurnotities maken.\n",
        "\n",
        "From: @zacharias2020multimodularity\n",
        "\n",
        "### 1. Understanding the Concepts\n",
        "\n",
        "#### Multimodular Function\n",
        "\n",
        "A multimodular function has the property that local optima are also global optima. Here, we'll use a simple quadratic function as an example.\n"
      ],
      "id": "e5141e8a"
    },
    {
      "cell_type": "code",
      "metadata": {},
      "source": [
        "import numpy as np\n",
        "\n",
        "def multimodular_function(x):\n",
        "    return x[0]**2 + x[1]**2 + x[2]**2\n",
        "\n",
        "x = np.array([1, 2, 3])\n",
        "print(multimodular_function(x))  # Output: 14"
      ],
      "id": "d8b2798a",
      "execution_count": null,
      "outputs": []
    },
    {
      "cell_type": "markdown",
      "metadata": {},
      "source": [
        "#### Nonnegative Integer Vectors\n",
        "\n",
        "These are vectors where each component is a nonnegative integer.\n"
      ],
      "id": "5d09383c"
    },
    {
      "cell_type": "code",
      "metadata": {},
      "source": [
        "x = np.array([0, 2, 3])\n",
        "print(x)  # Output: [0 2 3]"
      ],
      "id": "077e1832",
      "execution_count": null,
      "outputs": []
    },
    {
      "cell_type": "markdown",
      "metadata": {},
      "source": [
        "#### Submodular Set-Function Minimization\n",
        "\n",
        "Let's define a simple submodular function and use a greedy algorithm to minimize it.\n",
        "\n",
        "**Submodular Function Definition**\n"
      ],
      "id": "e5e68626"
    },
    {
      "cell_type": "code",
      "metadata": {},
      "source": [
        "def submodular_function(S):\n",
        "    return sum(S) - 0.5 * len(S) * (len(S) - 1)\n",
        "\n",
        "S = {1, 2, 3}\n",
        "print(submodular_function(S))  # Output: 4.5"
      ],
      "id": "046ea608",
      "execution_count": null,
      "outputs": []
    },
    {
      "cell_type": "markdown",
      "metadata": {},
      "source": [
        "**Greedy Algorithm for Minimization**\n"
      ],
      "id": "a83dea5a"
    },
    {
      "cell_type": "code",
      "metadata": {},
      "source": [
        "def submodular_function(S):\n",
        "    base_cost = sum(S)\n",
        "    penalty = 0.5 * len(S) * (len(S) - 1)\n",
        "    synergy_discount = 0\n",
        "    \n",
        "    # Adding synergy between elements 2 and 3\n",
        "    if 2 in S and 3 in S:\n",
        "        synergy_discount += 5\n",
        "    \n",
        "    # Adding synergy between elements 1 and 3\n",
        "    if 1 in S and 3 in S:\n",
        "        synergy_discount += 3\n",
        "    print(S, base_cost, penalty, synergy_discount)\n",
        "    return base_cost + penalty - synergy_discount\n",
        "\n",
        "# Example sets\n",
        "print(submodular_function({1}))  # Output: 1\n",
        "print(submodular_function({2}))  # Output: 2\n",
        "print(submodular_function({3}))  # Output: 3\n",
        "print(submodular_function({1, 2}))  # Output: 3\n",
        "print(submodular_function({2, 3}))  # Output: 0\n",
        "print(submodular_function({1, 3}))  # Output: -0.5\n",
        "print(submodular_function({1, 2, 3}))  # Output: 1.5\n",
        "\n",
        "def greedy_minimization(elements):\n",
        "    current_set = set()\n",
        "    current_value = submodular_function(current_set)\n",
        "    \n",
        "    improved = True\n",
        "    while improved:\n",
        "        improved = False\n",
        "        for element in elements:\n",
        "            new_set = current_set.union({element})\n",
        "            new_value = submodular_function(new_set)\n",
        "            print(\"New set:\", new_set, \"New value:\", new_value, \"Current value:\", current_value)\n",
        "            \n",
        "            if new_value < current_value:\n",
        "                current_set = new_set\n",
        "                current_value = new_value\n",
        "                improved = True\n",
        "                \n",
        "    return current_set, current_value\n",
        "\n",
        "elements = [1, 2, 3]\n",
        "optimal_set, min_value = greedy_minimization(elements)\n",
        "\n",
        "print(\"Optimal Set:\", optimal_set)\n",
        "print(\"Minimum Value:\", min_value)\n",
        "\n",
        "print(\"Optimal Set:\", optimal_set)\n",
        "print(\"Minimum Value:\", min_value)"
      ],
      "id": "f9184fa4",
      "execution_count": null,
      "outputs": []
    },
    {
      "cell_type": "code",
      "metadata": {},
      "source": [
        "submodular_function({1, 3})"
      ],
      "id": "2c6db8c2",
      "execution_count": null,
      "outputs": []
    },
    {
      "cell_type": "markdown",
      "metadata": {},
      "source": [
        "#### Ring Families\n",
        "\n",
        "A ring family is closed under union and intersection. We'll create a simple example to demonstrate this.\n"
      ],
      "id": "4f015689"
    },
    {
      "cell_type": "code",
      "metadata": {},
      "source": [
        "A = {1, 2}\n",
        "B = {2, 3}\n",
        "\n",
        "union = A.union(B)\n",
        "intersection = A.intersection(B)\n",
        "\n",
        "print(union)         # Output: {1, 2, 3}\n",
        "print(intersection)  # Output: {2}"
      ],
      "id": "15c60039",
      "execution_count": null,
      "outputs": []
    },
    {
      "cell_type": "markdown",
      "metadata": {},
      "source": [
        "### 2. How It Works\n",
        "\n",
        "#### Problem Formulation\n",
        "\n",
        "Formulate the multimodular function minimization problem.\n"
      ],
      "id": "250c6fbc"
    },
    {
      "cell_type": "code",
      "metadata": {},
      "source": [
        "# Multimodular function (example: quadratic)\n",
        "def multimodular_function(x):\n",
        "    return x[0]**2 + x[1]**2 + x[2]**2\n",
        "\n",
        "# Example vector\n",
        "x = np.array([1, 2, 3])\n",
        "print(multimodular_function(x))  # Output: 14"
      ],
      "id": "dd3c62f2",
      "execution_count": null,
      "outputs": []
    },
    {
      "cell_type": "markdown",
      "metadata": {},
      "source": [
        "#### Transforming the Problem\n",
        "\n",
        "Transform the multimodular function into a submodular function using a bidiagonal matrix.\n"
      ],
      "id": "7f1bf5bc"
    },
    {
      "cell_type": "code",
      "metadata": {},
      "source": [
        "B = np.array([[1, 0, 0], [-1, 1, 0], [0, -1, 1]])\n",
        "\n",
        "# The matrix B transforms a vector y such that B @ y = x\n",
        "# Define an example schedule\n",
        "x = np.array([1, 2, 3])\n",
        "\n",
        "# Transform x to y\n",
        "y = np.linalg.solve(B, x)\n",
        "print(\"Transformed y:\", y)"
      ],
      "id": "95145d67",
      "execution_count": null,
      "outputs": []
    },
    {
      "cell_type": "markdown",
      "metadata": {},
      "source": [
        "#### Applying Submodular Minimization\n",
        "\n",
        "Use a simple greedy algorithm to minimize the submodular function.\n"
      ],
      "id": "e5adc736"
    },
    {
      "cell_type": "code",
      "metadata": {},
      "source": [
        "from itertools import combinations\n",
        "\n",
        "def submodular_function(S):\n",
        "    return sum(S) - 0.5 * len(S) * (len(S) - 1)\n",
        "\n",
        "# Find the subset with the minimum submodular function value\n",
        "def greedy_minimization(elements):\n",
        "    current_set = set()\n",
        "    current_value = submodular_function(current_set)\n",
        "    \n",
        "    for element in elements:\n",
        "        new_set = current_set.union({element})\n",
        "        new_value = submodular_function(new_set)\n",
        "        \n",
        "        if new_value < current_value:\n",
        "            current_set = new_set\n",
        "            current_value = new_value\n",
        "            \n",
        "    return current_set, current_value\n",
        "\n",
        "# Example elements\n",
        "elements = [1, 2, 3]\n",
        "\n",
        "# Perform the greedy minimization\n",
        "optimal_set, min_value = greedy_minimization(elements)\n",
        "\n",
        "print(\"Optimal Set:\", optimal_set)\n",
        "print(\"Minimum Value:\", min_value)"
      ],
      "id": "2d3fb426",
      "execution_count": null,
      "outputs": []
    },
    {
      "cell_type": "markdown",
      "metadata": {},
      "source": [
        "#### Interpreting the Results\n",
        "\n",
        "Convert the solution back to the original variables.\n"
      ],
      "id": "becbf1a4"
    },
    {
      "cell_type": "code",
      "metadata": {},
      "source": [
        "# Ensure optimal_set is a list with fixed length 3 for the example\n",
        "optimal_set_list = list(optimal_set)\n",
        "# Padding with zeros if necessary to match the expected dimensions\n",
        "while len(optimal_set_list) < 3:\n",
        "    optimal_set_list.append(0)\n",
        "optimal_set_array = np.array(optimal_set_list)\n",
        "\n",
        "# Transform back to the original variables\n",
        "x_opt = np.dot(B, optimal_set_array)\n",
        "print(\"Optimal x:\", x_opt)"
      ],
      "id": "72176bab",
      "execution_count": null,
      "outputs": []
    },
    {
      "cell_type": "markdown",
      "metadata": {},
      "source": [
        "### 3. Practical Example\n",
        "\n",
        "Here is a practical example using the concepts we’ve covered.\n",
        "\n",
        "#### Example: Scheduling Patients\n",
        "\n",
        "1.  **Formulate the Problem**: Define the multimodular function representing the cost.\n"
      ],
      "id": "b878e2e4"
    },
    {
      "cell_type": "code",
      "metadata": {},
      "source": [
        "def scheduling_cost(schedule):\n",
        "    # Example cost function\n",
        "    waiting_cost = sum(schedule)\n",
        "    idle_cost = len(schedule) * 2\n",
        "    overtime_cost = max(0, sum(schedule) - 10)\n",
        "    return waiting_cost + idle_cost + overtime_cost\n",
        "\n",
        "schedule = np.array([1, 2, 3, 4])\n",
        "print(scheduling_cost(schedule))  # Output: 16"
      ],
      "id": "a8225645",
      "execution_count": null,
      "outputs": []
    },
    {
      "cell_type": "markdown",
      "metadata": {},
      "source": [
        "2.  **Transform the Problem**: Use a transformation to handle the scheduling as a submodular minimization problem.\n"
      ],
      "id": "268d8931"
    },
    {
      "cell_type": "code",
      "metadata": {},
      "source": [
        "B = np.array([[1, 0, 0, 0], [-1, 1, 0, 0], [0, -1, 1, 0], [0, 0, -1, 1]])\n",
        "y = np.dot(np.linalg.inv(B), schedule)"
      ],
      "id": "4ca940df",
      "execution_count": null,
      "outputs": []
    },
    {
      "cell_type": "markdown",
      "metadata": {},
      "source": [
        "3.  **Apply Submodular Minimization**: Use a simple greedy algorithm to minimize the cost.\n"
      ],
      "id": "deb42282"
    },
    {
      "cell_type": "code",
      "metadata": {},
      "source": [
        "from itertools import combinations\n",
        "\n",
        "def submodular_schedule_function(S):\n",
        "    return sum(S) - 0.5 * len(S) * (len(S) - 1)\n",
        "\n",
        "# Find the subset with the minimum submodular function value\n",
        "min_value = float('inf')\n",
        "best_subset = None\n",
        "elements = [1, 2, 3, 4]\n",
        "\n",
        "for r in range(len(elements) + 1):\n",
        "    for subset in combinations(elements, r):\n",
        "        value = submodular_schedule_function(subset)\n",
        "        if value < min_value:\n",
        "            min_value = value\n",
        "            best_subset = subset\n",
        "\n",
        "print(best_subset, min_value)  # Output: (1,) -0.5"
      ],
      "id": "a414d981",
      "execution_count": null,
      "outputs": []
    },
    {
      "cell_type": "markdown",
      "metadata": {},
      "source": [
        "4.  **Interpret the Results**: Convert the solution back to the original schedule.\n"
      ],
      "id": "2e2cabc7"
    },
    {
      "cell_type": "code",
      "metadata": {},
      "source": [
        "# Ensure optimal_set is a list with fixed length 3 for the example\n",
        "optimal_set_list = list(optimal_set)\n",
        "# Padding with zeros if necessary to match the expected dimensions\n",
        "while len(optimal_set_list) < 4:\n",
        "    optimal_set_list.append(0)\n",
        "optimal_set_array = np.array(optimal_set_list)\n",
        "\n",
        "# Transform back to the original variables\n",
        "x_opt = np.dot(B, optimal_set_array)\n",
        "print(\"Optimal x:\", x_opt)"
      ],
      "id": "97939e89",
      "execution_count": null,
      "outputs": []
    },
    {
      "cell_type": "markdown",
      "metadata": {},
      "source": [
        "### Summary\n",
        "\n",
        "This set of Python code examples demonstrates each concept and step involved in minimizing a multimodular function over nonnegative integer vectors via submodular set-function minimization over ring families. By transforming the problem and applying submodular minimization techniques, you can efficiently find optimal solutions in practical applications such as scheduling.\n",
        "\n",
        "### Simulation Optimization\n",
        "\n",
        "From: @simoptgithub\n",
        "\n",
        "#### Setup\n"
      ],
      "id": "cda1c10d"
    },
    {
      "cell_type": "code",
      "metadata": {},
      "source": [
        "import simopt\n",
        "from simopt import models, solvers, experiment_base"
      ],
      "id": "7a05a3ad",
      "execution_count": null,
      "outputs": []
    },
    {
      "cell_type": "code",
      "metadata": {},
      "source": [
        "myexperiment = simopt.experiment_base.ProblemSolver(\"RNDSRCH\", \"CNTNEWS-1\")\n",
        "myexperiment.run(n_macroreps=10)"
      ],
      "id": "c42d72c2",
      "execution_count": null,
      "outputs": []
    },
    {
      "cell_type": "code",
      "metadata": {},
      "source": [
        "myexperiment.post_replicate(n_postreps=200)\n",
        "simopt.experiment_base.post_normalize([myexperiment], n_postreps_init_opt=200)"
      ],
      "id": "badfeb54",
      "execution_count": null,
      "outputs": []
    },
    {
      "cell_type": "code",
      "metadata": {},
      "source": [
        "#A .txt file called RNDSRCH_on_CNTNEWS-1_experiment_results.txt will be saved in a folder called experiments/logs\n",
        "myexperiment.log_experiment_results()"
      ],
      "id": "6faeaec5",
      "execution_count": null,
      "outputs": []
    },
    {
      "cell_type": "code",
      "metadata": {},
      "source": [
        "simopt.experiment_base.plot_progress_curves(experiments=[myexperiment], plot_type=\"mean\", normalize=False)"
      ],
      "id": "916e8258",
      "execution_count": null,
      "outputs": []
    },
    {
      "cell_type": "markdown",
      "metadata": {},
      "source": [
        "### Tutorial on Applying Simulation Optimization to Appointment Scheduling Using Python\n",
        "\n",
        "In this tutorial, we will explore how to apply simulation optimization to appointment scheduling. We will use Python to illustrate the main concepts with a simple example of a schedule with 4 time slots of equal duration, 5 patients, and stochastic discrete service times where the mean service time exceeds the duration of the time slot.\n",
        "\n",
        "### Step 1: Define the Problem\n",
        "Our goal is to create an appointment schedule that minimizes the total cost, which is a combination of patient waiting time, doctor idle time, and potential overtime.\n",
        "\n",
        "### Step 2: Set Up the Environment\n",
        "First, we need to set up our Python environment. We will use the `numpy` and `simpy` libraries for simulations and the `scipy.optimize` for optimization.\n"
      ],
      "id": "a05d6ffa"
    },
    {
      "cell_type": "code",
      "metadata": {},
      "source": [
        "import numpy as np\n",
        "import simpy\n",
        "from scipy.optimize import minimize"
      ],
      "id": "8cd2916c",
      "execution_count": null,
      "outputs": []
    },
    {
      "cell_type": "markdown",
      "metadata": {},
      "source": [
        "### Step 3: Define the Simulation Model\n",
        "We will create a simulation model that mimics the operation of an appointment schedule. Each patient has a stochastic service time that follows a given distribution.\n"
      ],
      "id": "b960436e"
    },
    {
      "cell_type": "code",
      "metadata": {},
      "source": [
        "class AppointmentSimulation:\n",
        "    def __init__(self, env, num_slots, service_times):\n",
        "        self.env = env\n",
        "        self.num_slots = num_slots\n",
        "        self.service_times = service_times\n",
        "        self.waiting_times = []\n",
        "        self.idle_times = []\n",
        "        self.overtime = 0\n",
        "        self.doctor = simpy.Resource(env, capacity=1)\n",
        "\n",
        "    def patient(self, patient_id, appointment_time):\n",
        "        yield self.env.timeout(max(0, appointment_time - self.env.now))  # Wait until appointment time\n",
        "        with self.doctor.request() as request:\n",
        "            yield request\n",
        "            start_time = self.env.now\n",
        "            service_time = self.service_times[patient_id]\n",
        "            yield self.env.timeout(service_time)\n",
        "            end_time = self.env.now\n",
        "            self.waiting_times.append(start_time - appointment_time)\n",
        "            if start_time > appointment_time:\n",
        "                self.idle_times.append(0)\n",
        "            else:\n",
        "                self.idle_times.append(appointment_time - start_time)\n",
        "            self.overtime = max(0, end_time - self.num_slots)\n",
        "\n",
        "    def run(self, schedule):\n",
        "        for i in range(len(schedule)):\n",
        "            self.env.process(self.patient(i, schedule[i]))\n",
        "        self.env.run()\n",
        "\n",
        "def objective_function(schedule, service_times, num_slots):\n",
        "    env = simpy.Environment()\n",
        "    sim = AppointmentSimulation(env, num_slots, service_times)\n",
        "    sim.run(schedule)\n",
        "    total_waiting_time = np.sum(sim.waiting_times)\n",
        "    total_idle_time = np.sum(sim.idle_times)\n",
        "    total_overtime = sim.overtime\n",
        "    return total_waiting_time + total_idle_time + total_overtime"
      ],
      "id": "188109e2",
      "execution_count": null,
      "outputs": []
    },
    {
      "cell_type": "markdown",
      "metadata": {},
      "source": [
        "### Step 4: Generate Service Times\n",
        "Generate the service times for each patient using a discrete stochastic distribution where the mean exceeds the time slot duration.\n"
      ],
      "id": "548ecfa6"
    },
    {
      "cell_type": "code",
      "metadata": {},
      "source": [
        "np.random.seed(0)\n",
        "mean_service_time = 15\n",
        "num_patients = 5\n",
        "service_times = np.random.poisson(mean_service_time, num_patients)\n",
        "print(\"Service times:\", service_times)"
      ],
      "id": "f7ed50d3",
      "execution_count": null,
      "outputs": []
    },
    {
      "cell_type": "markdown",
      "metadata": {},
      "source": [
        "### Step 5: Define the Optimization Problem\n",
        "We need to find the optimal appointment times that minimize the total cost function. We will use a simple local search algorithm for this purpose. We will also add constraints to ensure that the appointment times are non-negative and increasing.\n"
      ],
      "id": "41148a45"
    },
    {
      "cell_type": "code",
      "metadata": {},
      "source": [
        "def constraint(schedule):\n",
        "    return np.diff(schedule).min()\n",
        "\n",
        "initial_schedule = np.arange(0, num_patients * 10, 10)  # Initial schedule: every 10 minutes\n",
        "num_slots = 40  # 4 time slots of 10 minutes each\n",
        "\n",
        "constraints = ({'type': 'ineq', 'fun': constraint})\n",
        "\n",
        "result = minimize(objective_function, initial_schedule, args=(service_times, num_slots), method='SLSQP', constraints=constraints, options={'disp': True})\n",
        "\n",
        "optimal_schedule = result.x\n",
        "print(\"Optimal schedule:\", optimal_schedule)"
      ],
      "id": "90a8546d",
      "execution_count": null,
      "outputs": []
    },
    {
      "cell_type": "markdown",
      "metadata": {},
      "source": [
        "### Step 6: Analyze the Results\n",
        "Finally, we analyze the results to understand the optimal schedule and the corresponding costs.\n"
      ],
      "id": "9c3ef8f1"
    },
    {
      "cell_type": "code",
      "metadata": {},
      "source": [
        "env = simpy.Environment()\n",
        "sim = AppointmentSimulation(env, num_slots, service_times)\n",
        "sim.run(optimal_schedule)\n",
        "\n",
        "print(\"Optimal Schedule:\", optimal_schedule)\n",
        "print(\"Waiting Times:\", sim.waiting_times)\n",
        "print(\"Idle Times:\", sim.idle_times)\n",
        "print(\"Overtime:\", sim.overtime)\n",
        "print(\"Total Cost:\", objective_function(optimal_schedule, service_times, num_slots))"
      ],
      "id": "f5fb2516",
      "execution_count": null,
      "outputs": []
    },
    {
      "cell_type": "markdown",
      "metadata": {},
      "source": [
        "By ensuring the appointment times are non-negative and increasing, we can avoid the negative delay error and obtain a feasible schedule. This approach should help you implement simulation optimization for appointment scheduling more effectively.\n",
        "\n",
        "#### Step 6: Analyze the Results\n",
        "Finally, we analyze the results to understand the optimal schedule and the corresponding costs.\n"
      ],
      "id": "f0d53f37"
    },
    {
      "cell_type": "code",
      "metadata": {},
      "source": [
        "env = simpy.Environment()\n",
        "sim = AppointmentSimulation(env, num_slots, service_times)\n",
        "sim.run(optimal_schedule)\n",
        "\n",
        "print(\"Optimal Schedule:\", optimal_schedule)\n",
        "print(\"Waiting Times:\", sim.waiting_times)\n",
        "print(\"Idle Times:\", sim.idle_times)\n",
        "print(\"Overtime:\", sim.overtime)\n",
        "print(\"Total Cost:\", objective_function(optimal_schedule, service_times, num_slots))"
      ],
      "id": "d954848b",
      "execution_count": null,
      "outputs": []
    },
    {
      "cell_type": "markdown",
      "metadata": {},
      "source": [
        "### Conclusion\n",
        "By following this tutorial, we demonstrated how to apply simulation optimization to appointment scheduling using Python. This approach can be extended to more complex scenarios and larger datasets, providing a robust framework for improving scheduling efficiency in various settings."
      ],
      "id": "bf15df00"
    }
  ],
  "metadata": {
    "kernelspec": {
      "name": "python3",
      "language": "python",
      "display_name": "Python 3 (ipykernel)"
    }
  },
  "nbformat": 4,
  "nbformat_minor": 5
}