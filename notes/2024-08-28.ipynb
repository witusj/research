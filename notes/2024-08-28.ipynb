{
 "cells": [
  {
   "cell_type": "raw",
   "id": "e7bd83a0",
   "metadata": {},
   "source": [
    "---\n",
    "title: '2024-08-28'\n",
    "author: Witek ten Hove\n",
    "format: html\n",
    "editor: visual\n",
    "---"
   ]
  },
  {
   "cell_type": "markdown",
   "id": "a8f73192",
   "metadata": {},
   "source": [
    "Besproken met Joost:\n",
    "\n",
    "-   Resultaten experiment: https://witusj.github.io/experiments/book/xgboost-pairwise-ranking.html#background\n",
    "\n",
    "-   Testen accuracy van XGBoost model voor directe berekening objective en vergelijken met ordinaal ML model.\n",
    "\n",
    "-   Beginnen aan implementatie van ranking ML model in local search."
   ]
  }
 ],
 "metadata": {
  "kernelspec": {
   "display_name": "Python 3 (ipykernel)",
   "language": "python",
   "name": "python3"
  },
  "language_info": {
   "codemirror_mode": {
    "name": "ipython",
    "version": 3
   },
   "file_extension": ".py",
   "mimetype": "text/x-python",
   "name": "python",
   "nbconvert_exporter": "python",
   "pygments_lexer": "ipython3",
   "version": "3.12.2"
  }
 },
 "nbformat": 4,
 "nbformat_minor": 5
}
