{
  "cells": [
    {
      "cell_type": "raw",
      "metadata": {},
      "source": [
        "---\n",
        "title: \"scratchpad\"\n",
        "format: html\n",
        "editor: visual\n",
        "---"
      ],
      "id": "7c624324"
    },
    {
      "cell_type": "code",
      "metadata": {},
      "source": [
        "import numpy as np\n",
        "import functions as fn\n",
        "lnm = 14 # lognormal mean\n",
        "lns = 5 # lognormal standard deviation\n",
        "nm = fn.logn_mean_lns(lnm, lns)[0] # normal mean\n",
        "ns = fn.logn_mean_lns(lnm, lns)[1] # normal standard deviation\n",
        "\n",
        "em = np.random.poisson(0.1, 12).astype(int)\n",
        "em_stsm = [np.random.lognormal(mean = nm, sigma=ns, size=i).sum() for i in em]\n",
        "print(f'em: {em}, em_stsm: {em_stsm}')"
      ],
      "id": "275097d1",
      "execution_count": null,
      "outputs": []
    }
  ],
  "metadata": {
    "kernelspec": {
      "name": "osmnx",
      "language": "python",
      "display_name": "osmnx"
    }
  },
  "nbformat": 4,
  "nbformat_minor": 5
}