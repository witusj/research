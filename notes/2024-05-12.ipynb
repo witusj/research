{
  "cells": [
    {
      "cell_type": "raw",
      "metadata": {},
      "source": [
        "---\n",
        "title: \"2024-05-06\"\n",
        "author: \"Witek ten Hove\"\n",
        "format:\n",
        "  html:\n",
        "    include-in-header:\n",
        "      - scripts.html\n",
        "bibliography: bibliography.bib\n",
        "---"
      ],
      "id": "d864ea00"
    },
    {
      "cell_type": "markdown",
      "metadata": {},
      "source": [
        "## OBP:\n",
        "\n",
        "Afspraken:\n",
        "\n",
        "-   [ ] We gaan verder kijken naar Simulation Optimization methodes\n",
        "\n",
        "-   [ ] Wellicht icm Gradient Boosting, mogelijk ML-toepassingen\n",
        "\n",
        "-   [ ] Onderzoeken wat de stand van zaken is mbt SO en Appointment Scheduling\n",
        "\n",
        "-   [ ] Start met artikel van @homem2022simulation\n",
        "\n",
        "-   [ ] Waarom zou het probleem dat besproken wordt in @homem2022simulation non-convex zijn?\n",
        "\n",
        "-   [ ] Aanmaken van Overleaf document voor samenwerking.\n",
        "\n",
        "-   [ ] Literatuurnotities maken.\n",
        "\n",
        "\n",
        "## Lipschitz functions\n",
        "\n",
        "### Step 1: Understanding Continuity\n",
        "\n",
        "Before diving into Lipschitz functions, it's essential to understand continuity. A function is continuous if small changes in the input result in small changes in the output. We can represent this in Python using a simple continuous function like a linear function."
      ],
      "id": "6c801cdd"
    },
    {
      "cell_type": "code",
      "metadata": {},
      "source": [
        "import numpy as np\n",
        "import plotly.graph_objs as go\n",
        "import networkx as nx"
      ],
      "id": "db419ac6",
      "execution_count": null,
      "outputs": []
    },
    {
      "cell_type": "code",
      "metadata": {},
      "source": [
        "def f(x):\n",
        "    return 2*x + 1  # Example of a linear function\n",
        "\n",
        "# Test for continuity\n",
        "x1 = 2\n",
        "x2 = 2.1\n",
        "y1 = f(x1)\n",
        "y2 = f(x2)\n",
        "\n",
        "print(\"Function values:\")\n",
        "print(\"f({}) = {}\".format(x1, y1))\n",
        "print(\"f({}) = {}\".format(x2, y2))\n",
        "\n",
        "# Calculate the difference in function values\n",
        "difference = abs(y2 - y1)\n",
        "print(\"Difference:\", difference)"
      ],
      "id": "930317ff",
      "execution_count": null,
      "outputs": []
    },
    {
      "cell_type": "markdown",
      "metadata": {},
      "source": [
        "This code demonstrates how small changes in the input (from 2 to 2.1) result in small changes in the output of the function. \n",
        "\n",
        "### Step 2: Introduction to Lipschitz Continuity\n",
        "\n",
        "A Lipschitz continuous function is a special type of continuous function that satisfies a particular condition. It's named after the mathematician Rudolf Lipschitz.\n",
        "\n",
        "A function $f(x)$ is Lipschitz continuous if there exists a constant $L$ such that for all $x_1$ and $x_2$ in the domain of $f$, the absolute difference between the function values is bounded by $L$ times the absolute difference between the inputs.\n",
        "\n",
        "Mathematically, it can be written as:\n",
        "$$|f(x_1) - f(x_2)| \\leq L \\cdot |x_1 - x_2|$$\n",
        "\n",
        "Python example using a Lipschitz function:\n"
      ],
      "id": "c56d8126"
    },
    {
      "cell_type": "code",
      "metadata": {},
      "source": [
        "def lipschitz_function(x):\n",
        "    return 2*x + 1  # Example of a Lipschitz function\n",
        "\n",
        "# Define Lipschitz constant\n",
        "L = 2  # We'll choose an arbitrary Lipschitz constant\n",
        "\n",
        "# Test for Lipschitz continuity\n",
        "x1 = 2\n",
        "x2 = 3\n",
        "y1 = lipschitz_function(x1)\n",
        "y2 = lipschitz_function(x2)\n",
        "\n",
        "# Calculate the difference in function values\n",
        "difference_in_values = abs(y2 - y1)\n",
        "\n",
        "# Calculate Lipschitz condition\n",
        "difference_in_inputs = abs(x2 - x1)\n",
        "lipschitz_condition = L * difference_in_inputs\n",
        "\n",
        "print(\"Difference in function values:\", difference_in_values)\n",
        "print(\"Lipschitz condition:\", lipschitz_condition)\n",
        "print(\"Is Lipschitz condition satisfied?\", difference_in_values <= lipschitz_condition)"
      ],
      "id": "3ea0e3d6",
      "execution_count": null,
      "outputs": []
    },
    {
      "cell_type": "markdown",
      "metadata": {},
      "source": [
        "This code demonstrates that for a Lipschitz function, the difference in function values is bounded by the Lipschitz constant times the difference in inputs.\n"
      ],
      "id": "16b7a875"
    },
    {
      "cell_type": "code",
      "metadata": {},
      "source": [
        "# Generate x values\n",
        "x_values = np.linspace(-5, 5, 100)\n",
        "\n",
        "# Calculate function values\n",
        "y_values = lipschitz_function(x_values)\n",
        "\n",
        "# Calculate Lipschitz condition\n",
        "lipschitz_condition = L * np.abs(x_values - x_values[0])\n",
        "\n",
        "# Calculate the left side of the Lipschitz condition\n",
        "left_side_condition = np.abs(np.diff(y_values))\n",
        "\n",
        "# Create traces for the function plot, Lipschitz condition, and left side of the Lipschitz condition\n",
        "function_trace = go.Scatter(x=x_values, y=y_values, mode='lines', name='Lipschitz Function')\n",
        "condition_trace = go.Scatter(x=x_values, y=lipschitz_condition, mode='lines', name='Lipschitz Condition',\n",
        "                             line=dict(dash='dash'))\n",
        "left_side_condition_trace = go.Scatter(x=x_values[:-1], y=left_side_condition, mode='lines', name='Left Side of Condition',\n",
        "                                       line=dict(color='red', dash='dot'))\n",
        "\n",
        "# Create layout\n",
        "layout = go.Layout(title='Visualization of a Lipschitz Function',\n",
        "                   xaxis=dict(title='x'),\n",
        "                   yaxis=dict(title='f(x)'),\n",
        "                   )\n",
        "\n",
        "# Create figure\n",
        "fig = go.Figure(data=[function_trace, condition_trace, left_side_condition_trace], layout=layout)\n",
        "\n",
        "# Display the plot\n",
        "fig.show()"
      ],
      "id": "67c9300f",
      "execution_count": null,
      "outputs": []
    },
    {
      "cell_type": "markdown",
      "metadata": {},
      "source": [
        "### Step 3: Understanding the Implications\n",
        "\n",
        "Understanding Lipschitz continuity is important in various fields, including optimization, differential equations, and machine learning. It provides a guarantee about how \"well-behaved\" a function is and can help in proving convergence properties of algorithms and stability of solutions.\n",
        "\n",
        "By grasping this concept, one can better understand the behavior of functions in different contexts and make informed decisions in problem-solving scenarios.\n",
        "\n",
        "This code will generate a plot of the Lipschitz function $f(x) = 2x + 1$ along with its Lipschitz condition, which is a linear function representing the Lipschitz constant times the absolute difference between $x$ and a reference point $x_0$. This visualization helps to understand how Lipschitz continuity imposes a bound on the rate at which the function can change as its input varies.\n",
        "\n",
        "You're absolutely right! Let's include the visualization of the difference between the y-values corresponding to different x-values. This will help to visually confirm that the Lipschitz condition $$|f(x_1) - f(x_2)| \\leq L \\cdot |x_1 - x_2|$$ holds true.\n"
      ],
      "id": "61556e7c"
    },
    {
      "cell_type": "code",
      "metadata": {},
      "source": [
        "# Define Lipschitz polynomial function (quadratic)\n",
        "def lipschitz_function(x):\n",
        "    return (x**2 + 5)**0.5\n",
        "\n",
        "# Define Lipschitz constant\n",
        "L = 2\n",
        "\n",
        "# Generate x values\n",
        "x_values = np.linspace(-5, 5, 100)\n",
        "\n",
        "# Calculate function values\n",
        "y_values = lipschitz_function(x_values)\n",
        "\n",
        "# Calculate the difference in y-values\n",
        "y_diff = np.abs(np.diff(y_values))\n",
        "\n",
        "# Calculate Lipschitz condition\n",
        "lipschitz_condition = L * np.abs(x_values[1] - x_values[0])\n",
        "\n",
        "# Create traces for the function plot, difference in y-values, and Lipschitz condition\n",
        "function_trace = go.Scatter(x=x_values, y=y_values, mode='lines', name='Lipschitz Polynomial Function')\n",
        "difference_trace = go.Scatter(x=x_values[:-1], y=y_diff, mode='lines', name='Difference in y-values',\n",
        "                              line=dict(color='red', dash='dot'))\n",
        "condition_trace = go.Scatter(x=x_values, y=lipschitz_condition*np.ones_like(x_values), mode='lines',\n",
        "                             name='Lipschitz Condition', line=dict(dash='dash'))\n",
        "\n",
        "# Create layout\n",
        "layout = go.Layout(title='Visualization of a Lipschitz Polynomial Function',\n",
        "                   xaxis=dict(title='x'),\n",
        "                   yaxis=dict(title='f(x)'),\n",
        "                   )\n",
        "\n",
        "# Create figure\n",
        "fig = go.Figure(data=[function_trace, difference_trace, condition_trace], layout=layout)\n",
        "\n",
        "# Display the plot\n",
        "fig.show()"
      ],
      "id": "b897d88f",
      "execution_count": null,
      "outputs": []
    },
    {
      "cell_type": "markdown",
      "metadata": {},
      "source": [
        "From: @zacharias2020multimodularity\n",
        "\n",
        "To explain minimizing a multimodular function over nonnegative integer vectors via submodular set-function minimization over ring families to someone with undergraduate math skills, let's break down the process step by step:\n",
        "\n",
        "Step 1: Understanding Multimodular Functions\n",
        "A multimodular function is a function that can be decomposed into a sum of modular functions, where each modular function depends on a subset of variables. In other words, it's a function that exhibits modularity in its structure.\n",
        "\n",
        "Step 2: Understanding Submodular Set-Functions\n",
        "A submodular set-function is a function defined on sets, where adding an element to a smaller set gives a larger increase in the function value compared to adding the same element to a larger set. In other words, it captures the concept of diminishing returns - as the set gets larger, the marginal increase in the function value decreases.\n",
        "\n",
        "Step 3: Relationship between Multimodular Functions and Submodular Set-Functions\n",
        "The minimization of a multimodular function over nonnegative integer vectors can be reformulated as the minimization of a submodular set-function over certain families of sets, known as ring families.\n",
        "\n",
        "Step 4: Ring Families\n",
        "A ring family is a family of sets with specific properties that facilitate the minimization of submodular set-functions. These properties include closure under intersection and difference operations.\n",
        "\n",
        "Step 5: Minimization Algorithm\n",
        "To minimize the submodular set-function over the ring family, one can use specialized algorithms such as the greedy algorithm or the Lovász extension. These algorithms iteratively select elements to include in the set based on their marginal contributions to the function value until a stopping criterion is met.\n",
        "\n",
        "Now, let's illustrate this process with a Python code example:\n"
      ],
      "id": "7d57f771"
    },
    {
      "cell_type": "code",
      "metadata": {},
      "source": [
        "import numpy as np\n",
        "\n",
        "# Example of a multimodular function\n",
        "def multimodular_function(x):\n",
        "    return np.sum(np.abs(x))  # Example of a multimodular function\n",
        "\n",
        "# Example of a submodular set-function (can be any submodular function)\n",
        "def submodular_function(S):\n",
        "    return len(S)  # Example of a submodular set-function\n",
        "\n",
        "# Example of a ring family (can be any collection of sets with specific properties)\n",
        "ring_family = [{1, 2}, {2, 3}, {3, 4}, {1, 4}]  # Example of a ring family\n",
        "\n",
        "# Minimization of submodular set-function over ring family\n",
        "def minimize_submodular_function(ring_family, submodular_function):\n",
        "    min_value = float('inf')\n",
        "    min_set = None\n",
        "    for S in ring_family:\n",
        "        value = submodular_function(S)\n",
        "        print(value)\n",
        "        if value < min_value:\n",
        "            min_value = value\n",
        "            min_set = S\n",
        "    return min_set\n",
        "\n",
        "# Example usage\n",
        "min_set = minimize_submodular_function(ring_family, submodular_function)\n",
        "print(\"Minimized set:\", min_set)"
      ],
      "id": "751e2597",
      "execution_count": null,
      "outputs": []
    },
    {
      "cell_type": "markdown",
      "metadata": {},
      "source": [
        "In this example, we have defined an example of a multimodular function (`multimodular_function`) and a submodular set-function (`submodular_function`). We also have a ring family (`ring_family`). The `minimize_submodular_function` function takes the ring family and the submodular function as inputs and returns the set that minimizes the submodular function over the ring family.\n",
        "\n",
        "This Python code illustrates the process of minimizing a multimodular function over nonnegative integer vectors via submodular set-function minimization over ring families.\n",
        "\n",
        "Sure! Let's create a detailed tutorial that explains the process of minimizing a multimodular function over nonnegative integer vectors via submodular set-function minimization over ring families using both undergraduate-level math concepts and Python code examples.\n",
        "\n",
        "\n",
        "**Tutorial: Minimizing a Multimodular Function via Submodular Set-Function Minimization**\n",
        "\n",
        "**1. Introduction**\n",
        "\n",
        "In this tutorial, we'll explore how to minimize a multimodular function over nonnegative integer vectors by leveraging the concept of submodular set-functions and ring families. We'll start by understanding the underlying mathematical concepts and then demonstrate their application through Python code examples.\n",
        "\n",
        "**2. Understanding Multimodular Functions**\n",
        "\n",
        "A multimodular function is a function that can be decomposed into a sum of modular functions. Each modular function depends on a subset of variables. Mathematically, a multimodular function $f(x)$ can be expressed as:\n",
        "\n",
        "$$f(x) = f_1(x_1) + f_2(x_2) + \\ldots + f_n(x_n)$$\n",
        "\n",
        "where $x_1, x_2, \\ldots, x_n$ are subsets of the vector $x$, and $f_1, f_2, \\ldots, f_n$ are modular functions corresponding to these subsets.\n",
        "\n",
        "A typical example of a multimodular function is a polynomial function where each term represents a modular function. Let's consider the following polynomial function:\n",
        "\n",
        "$$f(x) = x_1^2 + 2x_2 + x_3$$\n",
        "\n",
        "Here, we can decompose $f(x)$ into three modular functions:\n",
        "\n",
        "$$f_1(x_1) = x_1^2$$\n",
        "$$f_2(x_2) = 2x_2$$\n",
        "$$f_3(x_3) = x_3$$\n",
        "\n",
        "Let's illustrate this with a Python code example:\n"
      ],
      "id": "c11a21c4"
    },
    {
      "cell_type": "code",
      "metadata": {},
      "source": [
        "# Example of a true multimodular function\n",
        "def multimodular_function(x):\n",
        "    # Decompose the function into modular components\n",
        "    f1 = x[0]**2\n",
        "    f2 = 2 * x[1]\n",
        "    f3 = x[2]\n",
        "    # Sum up the modular components\n",
        "    return f1 + f2 + f3\n",
        "\n",
        "# Test the multimodular function\n",
        "x_example = [1, -2, 3]\n",
        "result = multimodular_function(x_example)\n",
        "print(\"Multimodular function result:\", result)"
      ],
      "id": "77b5eedf",
      "execution_count": null,
      "outputs": []
    },
    {
      "cell_type": "markdown",
      "metadata": {},
      "source": [
        "In this code example, the `multimodular_function` takes a vector `x` as input and decomposes it into three modular components, each representing a subset of variables in the function. Then, it sums up these modular components to compute the value of the multimodular function. This illustrates a true multimodular function, as it can be decomposed into a sum of modular functions.\n",
        "\n",
        "**3. Understanding Submodular Set-Functions**\n",
        "\n",
        "A submodular set-function is a function defined over sets, where adding an element to a smaller set results in a larger increase in the function value compared to adding the same element to a larger set. Mathematically, a set-function $f: 2^V \\rightarrow \\mathbb{R}$ is submodular if for any sets $A \\subseteq B \\subseteq V$ and any element $e \\in V$ such that $e \\notin B$, the following inequality holds:\n",
        "\n",
        "$$f(A \\cup \\{e\\}) - f(A) \\geq f(B \\cup \\{e\\}) - f(B)$$\n",
        "\n",
        "Let's see a Python example of a submodular function:\n"
      ],
      "id": "1992a504"
    },
    {
      "cell_type": "code",
      "metadata": {},
      "source": [
        "# Example of a submodular set-function (set coverage function)\n",
        "def submodular_function(S):\n",
        "    return len(set(S))\n",
        "\n",
        "# Test the submodular function\n",
        "set_example = [1, 2, 3]\n",
        "result = submodular_function(set_example)\n",
        "print(\"Submodular function result:\", result)"
      ],
      "id": "40806d9e",
      "execution_count": null,
      "outputs": []
    },
    {
      "cell_type": "markdown",
      "metadata": {},
      "source": [
        "**4. Relationship between Multimodular Functions and Submodular Set-Functions**\n",
        "\n",
        "The minimization of a multimodular function over nonnegative integer vectors can be reformulated as the minimization of a submodular set-function over certain families of sets, known as ring families.\n",
        "\n",
        "For example, we can relate the multimodular function to a submodular set-function by transforming the input vector into a set of absolute values of its elements:\n"
      ],
      "id": "97f7d9cd"
    },
    {
      "cell_type": "code",
      "metadata": {},
      "source": [
        "# Example of relating multimodular function to submodular set-function\n",
        "def relate_multimodular_to_submodular(x):\n",
        "    return set(abs(xi) for xi in x)\n",
        "\n",
        "# Test relating multimodular function to submodular set-function\n",
        "x_example = [1, -2, 3]\n",
        "result = relate_multimodular_to_submodular(x_example)\n",
        "print(\"Related set from multimodular function:\", result)"
      ],
      "id": "c5963099",
      "execution_count": null,
      "outputs": []
    },
    {
      "cell_type": "markdown",
      "metadata": {},
      "source": [
        "**5. Ring Families**\n",
        "\n",
        "A ring family is a family of sets with specific properties that facilitate the minimization of submodular set-functions. These properties include closure under intersection and difference operations.\n",
        "\n",
        "For example, we can define a simple ring family as a list of sets:\n"
      ],
      "id": "9485eba1"
    },
    {
      "cell_type": "code",
      "metadata": {},
      "source": [
        "# Example of defining a ring family\n",
        "ring_family = [{1, 2}, {2, 3}, {3, 4}, {1, 4}]  # Example of a ring family\n",
        "\n",
        "# Test the ring family\n",
        "print(\"Ring family:\", ring_family)"
      ],
      "id": "c47d885c",
      "execution_count": null,
      "outputs": []
    },
    {
      "cell_type": "markdown",
      "metadata": {},
      "source": [
        "**6. Minimization Algorithm**\n",
        "\n",
        "To minimize the submodular set-function over the ring family, we can use specialized algorithms such as the greedy algorithm or the Lovász extension. These algorithms iteratively select elements to include in the set based on their marginal contributions to the function value until a stopping criterion is met.\n",
        "\n",
        "Let's see an example of minimizing a submodular function over a ring family using Python:\n"
      ],
      "id": "f9d2e8c9"
    },
    {
      "cell_type": "code",
      "metadata": {},
      "source": [
        "# Example of minimizing submodular function over ring family\n",
        "def minimize_submodular_function(ring_family, submodular_function):\n",
        "    min_value = float('inf')\n",
        "    min_set = None\n",
        "    for S in ring_family:\n",
        "        value = submodular_function(S)\n",
        "        print(value)\n",
        "        if value < min_value:\n",
        "            min_value = value\n",
        "            min_set = S\n",
        "    return min_set\n",
        "\n",
        "# Test minimizing submodular function over ring family\n",
        "min_set = minimize_submodular_function(ring_family, submodular_function)\n",
        "print(\"Minimized set over ring family:\", min_set)"
      ],
      "id": "e0792774",
      "execution_count": null,
      "outputs": []
    },
    {
      "cell_type": "markdown",
      "metadata": {},
      "source": [
        "**7. Conclusion**\n",
        "\n",
        "In this tutorial, we've explored the concept of minimizing a multimodular function via submodular set-function minimization over ring families. We've covered the underlying mathematical concepts and provided Python code examples to illustrate each step of the process. By leveraging these techniques, you can tackle optimization problems involving multimodular functions efficiently.\n",
        "\n",
        "Sure, I'll break down the explanation of submodular set functions using Python code examples into a set of logical steps.\n",
        "\n",
        "Step 1: Understanding Set Functions\n",
        "A set function is a function that maps a set to a real number. In Python, we can define a set function as a function that takes a set as input and returns a real number.\n"
      ],
      "id": "a3eb8eeb"
    },
    {
      "cell_type": "code",
      "metadata": {},
      "source": [
        "def set_function(S):\n",
        "    # Compute the value of the set function for the set S\n",
        "    # and return the result\n",
        "    pass"
      ],
      "id": "c7ee4295",
      "execution_count": null,
      "outputs": []
    },
    {
      "cell_type": "markdown",
      "metadata": {},
      "source": [
        "Step 2: Defining a Submodular Set Function\n",
        "A submodular set function is a set function that satisfies the diminishing returns property. This property states that for any two sets A and B, where A is a subset of B, and for any element x not in B, the increment in the function value by adding x to A is greater than or equal to the increment in the function value by adding x to B.\n",
        "\n",
        "Mathematically, a set function f is submodular if:\n",
        "\n",
        "$$\n",
        "f(A ∪ {x}) - f(A) ≥ f(B ∪ {x}) - f(B)\n",
        "$$\n",
        "\n",
        "for all sets $A, B$, and element $x$, where $A ⊆ B$ and $x \\notin B$.\n",
        "\n",
        "In Python, we can define a submodular set function as follows:\n"
      ],
      "id": "099c784c"
    },
    {
      "cell_type": "code",
      "metadata": {},
      "source": [
        "def submodular_function(S):\n",
        "    # Define the submodular function here\n",
        "    # Ensure that it satisfies the diminishing returns property\n",
        "    pass"
      ],
      "id": "6948cde2",
      "execution_count": null,
      "outputs": []
    },
    {
      "cell_type": "markdown",
      "metadata": {},
      "source": [
        "Step 3: Checking the Submodularity Property\n",
        "To verify that a set function is submodular, we need to check the diminishing returns property for all possible sets $A, B$, and element $x$. This can be done using nested loops in Python.\n"
      ],
      "id": "33a0142a"
    },
    {
      "cell_type": "code",
      "metadata": {},
      "source": [
        "def is_submodular(func):\n",
        "    # Define the ground set V\n",
        "    V = set(range(5))  # Example ground set {0, 1, 2, 3, 4}\n",
        "\n",
        "    # Check the submodularity property for all possible sets A, B, and x\n",
        "    for A_tuple in powerset(V):\n",
        "        A = set(A_tuple)\n",
        "        for B_tuple in powerset(V):\n",
        "            B = set(B_tuple)\n",
        "            if A.issubset(B):\n",
        "                for x in V - B:\n",
        "                    if func(A.union({x})) - func(A) < func(B.union({x})) - func(B):\n",
        "                        return False\n",
        "\n",
        "    return True\n",
        "\n",
        "def powerset(S):\n",
        "    # Generate the power set of a set S\n",
        "    from itertools import chain, combinations\n",
        "    return chain.from_iterable(combinations(S, r) for r in range(len(S)+1))"
      ],
      "id": "f89b0344",
      "execution_count": null,
      "outputs": []
    },
    {
      "cell_type": "markdown",
      "metadata": {},
      "source": [
        "In this example, `is_submodular` checks the submodularity property for a given set function `func` by iterating over all possible sets $A, B$, and $x$. If the diminishing returns property is violated for any combination of $A, B$, and $x$, the function returns `False`. Otherwise, it returns `True`, indicating that the function is submodular.\n",
        "\n",
        "The `powerset` function generates the power set of a given set, which is the set of all possible subsets of that set.\n",
        "\n",
        "Step 4: Examples of Submodular Set Functions\n",
        "Here are a few examples of submodular set functions in Python:\n"
      ],
      "id": "07d4dcb5"
    },
    {
      "cell_type": "code",
      "metadata": {},
      "source": [
        "# Modular function (linear function)\n",
        "def modular_function(S):\n",
        "    return sum(S)\n",
        "\n",
        "# Coverage function\n",
        "def coverage_function(S, ground_set):\n",
        "    return len(set.union(*(ground_set[i] for i in S)))\n",
        "\n",
        "# Graph cut function\n",
        "def graph_cut_function(S, graph):\n",
        "    cut = 0\n",
        "    for u in S:\n",
        "        for v in graph.nodes - S:\n",
        "            if graph.has_edge(u, v):\n",
        "                cut += 1\n",
        "    return cut"
      ],
      "id": "f69c5498",
      "execution_count": null,
      "outputs": []
    },
    {
      "cell_type": "markdown",
      "metadata": {},
      "source": [
        "The `modular_function` is a simple sum of the elements in the set, which is a submodular function. The `coverage_function` computes the size of the union of subsets from a given ground set, which is also submodular. The `graph_cut_function` counts the number of edges between the set S and its complement in a given graph, which is a submodular function as well.\n",
        "\n",
        "You can verify that these functions are submodular by calling the `is_submodular` function with each of them as an argument.\n"
      ],
      "id": "bb8511ed"
    },
    {
      "cell_type": "code",
      "metadata": {},
      "source": [
        "# Verify submodularity for the example functions\n",
        "print(\"Modular function is submodular:\", is_submodular(modular_function))\n",
        "\n",
        "# Define a ground set for the coverage function\n",
        "ground_set = [{0, 1}, {1, 2}, {2, 3}, {3, 4}, {4, 0}]\n",
        "\n",
        "#print(\"Coverage function is submodular:\", is_submodular(lambda S: coverage_function(S, ground_set)))\n",
        "\n",
        "# For the graph cut function, we need to define a graph\n",
        "\n",
        "graph = nx.Graph()\n",
        "graph.add_nodes_from(range(5))\n",
        "graph.add_edges_from([(0, 1), (1, 2), (2, 3), (3, 4), (4, 0)])\n",
        "print(\"Graph cut function is submodular:\", is_submodular(lambda S: graph_cut_function(S, graph)))"
      ],
      "id": "6013cbdd",
      "execution_count": null,
      "outputs": []
    }
  ],
  "metadata": {
    "kernelspec": {
      "name": "envpy39",
      "language": "python",
      "display_name": "envpy39"
    }
  },
  "nbformat": 4,
  "nbformat_minor": 5
}